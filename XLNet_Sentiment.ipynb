{
 "cells": [
  {
   "cell_type": "code",
   "execution_count": 1,
   "metadata": {
    "colab": {
     "base_uri": "https://localhost:8080/"
    },
    "id": "HqQKcukJAicL",
    "outputId": "b0809233-1154-4f8d-bf6f-768f31d2a1fd"
   },
   "outputs": [
    {
     "name": "stdout",
     "output_type": "stream",
     "text": [
      "Collecting package metadata (current_repodata.json): done\n",
      "Solving environment: done\n",
      "\n",
      "\n",
      "==> WARNING: A newer version of conda exists. <==\n",
      "  current version: 22.9.0\n",
      "  latest version: 23.3.1\n",
      "\n",
      "Please update conda by running\n",
      "\n",
      "    $ conda update -n base -c defaults conda\n",
      "\n",
      "\n",
      "\n",
      "# All requested packages already installed.\n",
      "\n",
      "Retrieving notices: ...working... done\n",
      "\n",
      "Note: you may need to restart the kernel to use updated packages.\n"
     ]
    }
   ],
   "source": [
    "conda install transformers"
   ]
  },
  {
   "cell_type": "markdown",
   "metadata": {
    "id": "Mk0GnvUQIdxc"
   },
   "source": [
    "### Making the necessary imports"
   ]
  },
  {
   "cell_type": "code",
   "execution_count": 5,
   "metadata": {
    "id": "dOpc8w_12D1f"
   },
   "outputs": [],
   "source": [
    "import transformers\n",
    "from transformers import XLNetTokenizer, XLNetModel, AdamW, get_linear_schedule_with_warmup\n",
    "import torch\n",
    "\n",
    "import numpy as np\n",
    "import pandas as pd\n",
    "import seaborn as sns\n",
    "import matplotlib.pyplot as plt\n",
    "from matplotlib import rc\n",
    "from sklearn.model_selection import train_test_split\n",
    "from sklearn.metrics import confusion_matrix, classification_report, accuracy_score\n",
    "from collections import defaultdict\n",
    "from textwrap import wrap\n",
    "from pylab import rcParams\n",
    "\n",
    "from torch import nn, optim\n",
    "from tensorflow.keras.preprocessing.sequence import pad_sequences\n",
    "from torch.utils.data import TensorDataset,RandomSampler,SequentialSampler\n",
    "from torch.utils.data import Dataset, DataLoader\n",
    "import torch.nn.functional as F"
   ]
  },
  {
   "cell_type": "code",
   "execution_count": 6,
   "metadata": {
    "colab": {
     "base_uri": "https://localhost:8080/"
    },
    "id": "qAICzZNo2Dyw",
    "outputId": "d9f212db-d102-46b9-dac4-cf8fd15bbc32"
   },
   "outputs": [
    {
     "data": {
      "text/plain": [
       "device(type='cuda', index=0)"
      ]
     },
     "execution_count": 6,
     "metadata": {},
     "output_type": "execute_result"
    }
   ],
   "source": [
    "%matplotlib inline\n",
    "%config InlineBackend.figure_format='retina'\n",
    "\n",
    "sns.set(style='whitegrid', palette='muted', font_scale=1.2)\n",
    "\n",
    "HAPPY_COLORS_PALETTE = [\"#01BEFE\", \"#FFDD00\", \"#FF7D00\", \"#FF006D\", \"#ADFF02\", \"#8F00FF\"]\n",
    "\n",
    "sns.set_palette(sns.color_palette(HAPPY_COLORS_PALETTE))\n",
    "\n",
    "rcParams['figure.figsize'] = 12, 8\n",
    "\n",
    "RANDOM_SEED = 42\n",
    "np.random.seed(RANDOM_SEED)\n",
    "torch.manual_seed(RANDOM_SEED)\n",
    "\n",
    "device = torch.device(\"cuda:0\" if torch.cuda.is_available() else \"cpu\")\n",
    "device"
   ]
  },
  {
   "cell_type": "markdown",
   "metadata": {
    "id": "gC-WS1hYIxkr"
   },
   "source": [
    "### Data Preprocessing"
   ]
  },
  {
   "cell_type": "code",
   "execution_count": null,
   "metadata": {
    "colab": {
     "base_uri": "https://localhost:8080/",
     "height": 204
    },
    "id": "jJ83RaRG2Dv8",
    "outputId": "5f8780eb-30e1-4f3e-f90e-2400ccfff44f"
   },
   "outputs": [
    {
     "data": {
      "text/html": [
       "\n",
       "  <div id=\"df-899b9c78-7a8c-40fe-b5ac-9cea9ccbae30\">\n",
       "    <div class=\"colab-df-container\">\n",
       "      <div>\n",
       "<style scoped>\n",
       "    .dataframe tbody tr th:only-of-type {\n",
       "        vertical-align: middle;\n",
       "    }\n",
       "\n",
       "    .dataframe tbody tr th {\n",
       "        vertical-align: top;\n",
       "    }\n",
       "\n",
       "    .dataframe thead th {\n",
       "        text-align: right;\n",
       "    }\n",
       "</style>\n",
       "<table border=\"1\" class=\"dataframe\">\n",
       "  <thead>\n",
       "    <tr style=\"text-align: right;\">\n",
       "      <th></th>\n",
       "      <th>review</th>\n",
       "      <th>sentiment</th>\n",
       "    </tr>\n",
       "  </thead>\n",
       "  <tbody>\n",
       "    <tr>\n",
       "      <th>0</th>\n",
       "      <td>One of the other reviewers has mentioned that ...</td>\n",
       "      <td>positive</td>\n",
       "    </tr>\n",
       "    <tr>\n",
       "      <th>1</th>\n",
       "      <td>A wonderful little production. &lt;br /&gt;&lt;br /&gt;The...</td>\n",
       "      <td>positive</td>\n",
       "    </tr>\n",
       "    <tr>\n",
       "      <th>2</th>\n",
       "      <td>I thought this was a wonderful way to spend ti...</td>\n",
       "      <td>positive</td>\n",
       "    </tr>\n",
       "    <tr>\n",
       "      <th>3</th>\n",
       "      <td>Basically there's a family where a little boy ...</td>\n",
       "      <td>negative</td>\n",
       "    </tr>\n",
       "    <tr>\n",
       "      <th>4</th>\n",
       "      <td>Petter Mattei's \"Love in the Time of Money\" is...</td>\n",
       "      <td>positive</td>\n",
       "    </tr>\n",
       "  </tbody>\n",
       "</table>\n",
       "</div>\n",
       "      <button class=\"colab-df-convert\" onclick=\"convertToInteractive('df-899b9c78-7a8c-40fe-b5ac-9cea9ccbae30')\"\n",
       "              title=\"Convert this dataframe to an interactive table.\"\n",
       "              style=\"display:none;\">\n",
       "        \n",
       "  <svg xmlns=\"http://www.w3.org/2000/svg\" height=\"24px\"viewBox=\"0 0 24 24\"\n",
       "       width=\"24px\">\n",
       "    <path d=\"M0 0h24v24H0V0z\" fill=\"none\"/>\n",
       "    <path d=\"M18.56 5.44l.94 2.06.94-2.06 2.06-.94-2.06-.94-.94-2.06-.94 2.06-2.06.94zm-11 1L8.5 8.5l.94-2.06 2.06-.94-2.06-.94L8.5 2.5l-.94 2.06-2.06.94zm10 10l.94 2.06.94-2.06 2.06-.94-2.06-.94-.94-2.06-.94 2.06-2.06.94z\"/><path d=\"M17.41 7.96l-1.37-1.37c-.4-.4-.92-.59-1.43-.59-.52 0-1.04.2-1.43.59L10.3 9.45l-7.72 7.72c-.78.78-.78 2.05 0 2.83L4 21.41c.39.39.9.59 1.41.59.51 0 1.02-.2 1.41-.59l7.78-7.78 2.81-2.81c.8-.78.8-2.07 0-2.86zM5.41 20L4 18.59l7.72-7.72 1.47 1.35L5.41 20z\"/>\n",
       "  </svg>\n",
       "      </button>\n",
       "      \n",
       "  <style>\n",
       "    .colab-df-container {\n",
       "      display:flex;\n",
       "      flex-wrap:wrap;\n",
       "      gap: 12px;\n",
       "    }\n",
       "\n",
       "    .colab-df-convert {\n",
       "      background-color: #E8F0FE;\n",
       "      border: none;\n",
       "      border-radius: 50%;\n",
       "      cursor: pointer;\n",
       "      display: none;\n",
       "      fill: #1967D2;\n",
       "      height: 32px;\n",
       "      padding: 0 0 0 0;\n",
       "      width: 32px;\n",
       "    }\n",
       "\n",
       "    .colab-df-convert:hover {\n",
       "      background-color: #E2EBFA;\n",
       "      box-shadow: 0px 1px 2px rgba(60, 64, 67, 0.3), 0px 1px 3px 1px rgba(60, 64, 67, 0.15);\n",
       "      fill: #174EA6;\n",
       "    }\n",
       "\n",
       "    [theme=dark] .colab-df-convert {\n",
       "      background-color: #3B4455;\n",
       "      fill: #D2E3FC;\n",
       "    }\n",
       "\n",
       "    [theme=dark] .colab-df-convert:hover {\n",
       "      background-color: #434B5C;\n",
       "      box-shadow: 0px 1px 3px 1px rgba(0, 0, 0, 0.15);\n",
       "      filter: drop-shadow(0px 1px 2px rgba(0, 0, 0, 0.3));\n",
       "      fill: #FFFFFF;\n",
       "    }\n",
       "  </style>\n",
       "\n",
       "      <script>\n",
       "        const buttonEl =\n",
       "          document.querySelector('#df-899b9c78-7a8c-40fe-b5ac-9cea9ccbae30 button.colab-df-convert');\n",
       "        buttonEl.style.display =\n",
       "          google.colab.kernel.accessAllowed ? 'block' : 'none';\n",
       "\n",
       "        async function convertToInteractive(key) {\n",
       "          const element = document.querySelector('#df-899b9c78-7a8c-40fe-b5ac-9cea9ccbae30');\n",
       "          const dataTable =\n",
       "            await google.colab.kernel.invokeFunction('convertToInteractive',\n",
       "                                                     [key], {});\n",
       "          if (!dataTable) return;\n",
       "\n",
       "          const docLinkHtml = 'Like what you see? Visit the ' +\n",
       "            '<a target=\"_blank\" href=https://colab.research.google.com/notebooks/data_table.ipynb>data table notebook</a>'\n",
       "            + ' to learn more about interactive tables.';\n",
       "          element.innerHTML = '';\n",
       "          dataTable['output_type'] = 'display_data';\n",
       "          await google.colab.output.renderOutput(dataTable, element);\n",
       "          const docLink = document.createElement('div');\n",
       "          docLink.innerHTML = docLinkHtml;\n",
       "          element.appendChild(docLink);\n",
       "        }\n",
       "      </script>\n",
       "    </div>\n",
       "  </div>\n",
       "  "
      ],
      "text/plain": [
       "                                              review sentiment\n",
       "0  One of the other reviewers has mentioned that ...  positive\n",
       "1  A wonderful little production. <br /><br />The...  positive\n",
       "2  I thought this was a wonderful way to spend ti...  positive\n",
       "3  Basically there's a family where a little boy ...  negative\n",
       "4  Petter Mattei's \"Love in the Time of Money\" is...  positive"
      ]
     },
     "execution_count": 7,
     "metadata": {},
     "output_type": "execute_result"
    }
   ],
   "source": [
    "df = pd.read_csv('imdb.csv')\n",
    "df.head()"
   ]
  },
  {
   "cell_type": "code",
   "execution_count": null,
   "metadata": {
    "colab": {
     "base_uri": "https://localhost:8080/",
     "height": 669
    },
    "id": "4J5-ddIc2DtI",
    "outputId": "291d2044-221f-4c8f-a373-37e301a5c107"
   },
   "outputs": [
    {
     "data": {
      "text/html": [
       "\n",
       "  <div id=\"df-2536a3b5-dcef-4f4b-878b-19d34f1a3900\">\n",
       "    <div class=\"colab-df-container\">\n",
       "      <div>\n",
       "<style scoped>\n",
       "    .dataframe tbody tr th:only-of-type {\n",
       "        vertical-align: middle;\n",
       "    }\n",
       "\n",
       "    .dataframe tbody tr th {\n",
       "        vertical-align: top;\n",
       "    }\n",
       "\n",
       "    .dataframe thead th {\n",
       "        text-align: right;\n",
       "    }\n",
       "</style>\n",
       "<table border=\"1\" class=\"dataframe\">\n",
       "  <thead>\n",
       "    <tr style=\"text-align: right;\">\n",
       "      <th></th>\n",
       "      <th>review</th>\n",
       "      <th>sentiment</th>\n",
       "    </tr>\n",
       "  </thead>\n",
       "  <tbody>\n",
       "    <tr>\n",
       "      <th>33553</th>\n",
       "      <td>I really liked this Summerslam due to the look...</td>\n",
       "      <td>positive</td>\n",
       "    </tr>\n",
       "    <tr>\n",
       "      <th>9427</th>\n",
       "      <td>Not many television shows appeal to quite as m...</td>\n",
       "      <td>positive</td>\n",
       "    </tr>\n",
       "    <tr>\n",
       "      <th>199</th>\n",
       "      <td>The film quickly gets to a major chase scene w...</td>\n",
       "      <td>negative</td>\n",
       "    </tr>\n",
       "    <tr>\n",
       "      <th>12447</th>\n",
       "      <td>Jane Austen would definitely approve of this o...</td>\n",
       "      <td>positive</td>\n",
       "    </tr>\n",
       "    <tr>\n",
       "      <th>39489</th>\n",
       "      <td>Expectations were somewhat high for me when I ...</td>\n",
       "      <td>negative</td>\n",
       "    </tr>\n",
       "    <tr>\n",
       "      <th>42724</th>\n",
       "      <td>I've watched this movie on a fairly regular ba...</td>\n",
       "      <td>positive</td>\n",
       "    </tr>\n",
       "    <tr>\n",
       "      <th>10822</th>\n",
       "      <td>For once a story of hope highlighted over the ...</td>\n",
       "      <td>positive</td>\n",
       "    </tr>\n",
       "    <tr>\n",
       "      <th>49498</th>\n",
       "      <td>Okay, I didn't get the Purgatory thing the fir...</td>\n",
       "      <td>positive</td>\n",
       "    </tr>\n",
       "    <tr>\n",
       "      <th>4144</th>\n",
       "      <td>I was very disappointed with this series. It h...</td>\n",
       "      <td>negative</td>\n",
       "    </tr>\n",
       "    <tr>\n",
       "      <th>36958</th>\n",
       "      <td>The first 30 minutes of Tinseltown had my fing...</td>\n",
       "      <td>negative</td>\n",
       "    </tr>\n",
       "    <tr>\n",
       "      <th>43106</th>\n",
       "      <td>jeez, this was immensely boring. the leading m...</td>\n",
       "      <td>negative</td>\n",
       "    </tr>\n",
       "    <tr>\n",
       "      <th>38695</th>\n",
       "      <td>Great just great! The West Coast got \"Dirty\" H...</td>\n",
       "      <td>positive</td>\n",
       "    </tr>\n",
       "    <tr>\n",
       "      <th>6188</th>\n",
       "      <td>It's made in 2007 and the CG is bad for a movi...</td>\n",
       "      <td>negative</td>\n",
       "    </tr>\n",
       "    <tr>\n",
       "      <th>1414</th>\n",
       "      <td>This movie stinks majorly. The only reason I g...</td>\n",
       "      <td>negative</td>\n",
       "    </tr>\n",
       "    <tr>\n",
       "      <th>18471</th>\n",
       "      <td>We can start with the wooden acting but this f...</td>\n",
       "      <td>negative</td>\n",
       "    </tr>\n",
       "    <tr>\n",
       "      <th>29282</th>\n",
       "      <td>This movie starts off somewhat slowly and gets...</td>\n",
       "      <td>positive</td>\n",
       "    </tr>\n",
       "    <tr>\n",
       "      <th>15177</th>\n",
       "      <td>This is a slightly uneven entry with one stand...</td>\n",
       "      <td>positive</td>\n",
       "    </tr>\n",
       "    <tr>\n",
       "      <th>34304</th>\n",
       "      <td>I was first introduced to John Waters films by...</td>\n",
       "      <td>positive</td>\n",
       "    </tr>\n",
       "    <tr>\n",
       "      <th>12609</th>\n",
       "      <td>This movie has very good acting by virtually a...</td>\n",
       "      <td>positive</td>\n",
       "    </tr>\n",
       "    <tr>\n",
       "      <th>12144</th>\n",
       "      <td>I can't help but notice the negative reviews t...</td>\n",
       "      <td>positive</td>\n",
       "    </tr>\n",
       "  </tbody>\n",
       "</table>\n",
       "</div>\n",
       "      <button class=\"colab-df-convert\" onclick=\"convertToInteractive('df-2536a3b5-dcef-4f4b-878b-19d34f1a3900')\"\n",
       "              title=\"Convert this dataframe to an interactive table.\"\n",
       "              style=\"display:none;\">\n",
       "        \n",
       "  <svg xmlns=\"http://www.w3.org/2000/svg\" height=\"24px\"viewBox=\"0 0 24 24\"\n",
       "       width=\"24px\">\n",
       "    <path d=\"M0 0h24v24H0V0z\" fill=\"none\"/>\n",
       "    <path d=\"M18.56 5.44l.94 2.06.94-2.06 2.06-.94-2.06-.94-.94-2.06-.94 2.06-2.06.94zm-11 1L8.5 8.5l.94-2.06 2.06-.94-2.06-.94L8.5 2.5l-.94 2.06-2.06.94zm10 10l.94 2.06.94-2.06 2.06-.94-2.06-.94-.94-2.06-.94 2.06-2.06.94z\"/><path d=\"M17.41 7.96l-1.37-1.37c-.4-.4-.92-.59-1.43-.59-.52 0-1.04.2-1.43.59L10.3 9.45l-7.72 7.72c-.78.78-.78 2.05 0 2.83L4 21.41c.39.39.9.59 1.41.59.51 0 1.02-.2 1.41-.59l7.78-7.78 2.81-2.81c.8-.78.8-2.07 0-2.86zM5.41 20L4 18.59l7.72-7.72 1.47 1.35L5.41 20z\"/>\n",
       "  </svg>\n",
       "      </button>\n",
       "      \n",
       "  <style>\n",
       "    .colab-df-container {\n",
       "      display:flex;\n",
       "      flex-wrap:wrap;\n",
       "      gap: 12px;\n",
       "    }\n",
       "\n",
       "    .colab-df-convert {\n",
       "      background-color: #E8F0FE;\n",
       "      border: none;\n",
       "      border-radius: 50%;\n",
       "      cursor: pointer;\n",
       "      display: none;\n",
       "      fill: #1967D2;\n",
       "      height: 32px;\n",
       "      padding: 0 0 0 0;\n",
       "      width: 32px;\n",
       "    }\n",
       "\n",
       "    .colab-df-convert:hover {\n",
       "      background-color: #E2EBFA;\n",
       "      box-shadow: 0px 1px 2px rgba(60, 64, 67, 0.3), 0px 1px 3px 1px rgba(60, 64, 67, 0.15);\n",
       "      fill: #174EA6;\n",
       "    }\n",
       "\n",
       "    [theme=dark] .colab-df-convert {\n",
       "      background-color: #3B4455;\n",
       "      fill: #D2E3FC;\n",
       "    }\n",
       "\n",
       "    [theme=dark] .colab-df-convert:hover {\n",
       "      background-color: #434B5C;\n",
       "      box-shadow: 0px 1px 3px 1px rgba(0, 0, 0, 0.15);\n",
       "      filter: drop-shadow(0px 1px 2px rgba(0, 0, 0, 0.3));\n",
       "      fill: #FFFFFF;\n",
       "    }\n",
       "  </style>\n",
       "\n",
       "      <script>\n",
       "        const buttonEl =\n",
       "          document.querySelector('#df-2536a3b5-dcef-4f4b-878b-19d34f1a3900 button.colab-df-convert');\n",
       "        buttonEl.style.display =\n",
       "          google.colab.kernel.accessAllowed ? 'block' : 'none';\n",
       "\n",
       "        async function convertToInteractive(key) {\n",
       "          const element = document.querySelector('#df-2536a3b5-dcef-4f4b-878b-19d34f1a3900');\n",
       "          const dataTable =\n",
       "            await google.colab.kernel.invokeFunction('convertToInteractive',\n",
       "                                                     [key], {});\n",
       "          if (!dataTable) return;\n",
       "\n",
       "          const docLinkHtml = 'Like what you see? Visit the ' +\n",
       "            '<a target=\"_blank\" href=https://colab.research.google.com/notebooks/data_table.ipynb>data table notebook</a>'\n",
       "            + ' to learn more about interactive tables.';\n",
       "          element.innerHTML = '';\n",
       "          dataTable['output_type'] = 'display_data';\n",
       "          await google.colab.output.renderOutput(dataTable, element);\n",
       "          const docLink = document.createElement('div');\n",
       "          docLink.innerHTML = docLinkHtml;\n",
       "          element.appendChild(docLink);\n",
       "        }\n",
       "      </script>\n",
       "    </div>\n",
       "  </div>\n",
       "  "
      ],
      "text/plain": [
       "                                                  review sentiment\n",
       "33553  I really liked this Summerslam due to the look...  positive\n",
       "9427   Not many television shows appeal to quite as m...  positive\n",
       "199    The film quickly gets to a major chase scene w...  negative\n",
       "12447  Jane Austen would definitely approve of this o...  positive\n",
       "39489  Expectations were somewhat high for me when I ...  negative\n",
       "42724  I've watched this movie on a fairly regular ba...  positive\n",
       "10822  For once a story of hope highlighted over the ...  positive\n",
       "49498  Okay, I didn't get the Purgatory thing the fir...  positive\n",
       "4144   I was very disappointed with this series. It h...  negative\n",
       "36958  The first 30 minutes of Tinseltown had my fing...  negative\n",
       "43106  jeez, this was immensely boring. the leading m...  negative\n",
       "38695  Great just great! The West Coast got \"Dirty\" H...  positive\n",
       "6188   It's made in 2007 and the CG is bad for a movi...  negative\n",
       "1414   This movie stinks majorly. The only reason I g...  negative\n",
       "18471  We can start with the wooden acting but this f...  negative\n",
       "29282  This movie starts off somewhat slowly and gets...  positive\n",
       "15177  This is a slightly uneven entry with one stand...  positive\n",
       "34304  I was first introduced to John Waters films by...  positive\n",
       "12609  This movie has very good acting by virtually a...  positive\n",
       "12144  I can't help but notice the negative reviews t...  positive"
      ]
     },
     "execution_count": 8,
     "metadata": {},
     "output_type": "execute_result"
    }
   ],
   "source": [
    "from sklearn.utils import shuffle\n",
    "df = shuffle(df)\n",
    "df.head(20)"
   ]
  },
  {
   "cell_type": "code",
   "execution_count": null,
   "metadata": {
    "colab": {
     "base_uri": "https://localhost:8080/"
    },
    "id": "uMSFcIqsdZyH",
    "outputId": "8566fd6c-20a8-43fe-94bb-5c216d615273"
   },
   "outputs": [
    {
     "data": {
      "text/plain": [
       "24000"
      ]
     },
     "execution_count": 9,
     "metadata": {},
     "output_type": "execute_result"
    }
   ],
   "source": [
    "df = df[:24000]\n",
    "len(df)"
   ]
  },
  {
   "cell_type": "code",
   "execution_count": null,
   "metadata": {
    "id": "GluMm1Nj2DqK"
   },
   "outputs": [],
   "source": [
    "import re\n",
    "def clean_text(text):\n",
    "    text = re.sub(r\"@[A-Za-z0-9]+\", ' ', text)\n",
    "    text = re.sub(r\"https?://[A-Za-z0-9./]+\", ' ', text)\n",
    "    text = re.sub(r\"[^a-zA-z.!?'0-9]\", ' ', text)\n",
    "    text = re.sub('\\t', ' ',  text)\n",
    "    text = re.sub(r\" +\", ' ', text)\n",
    "    return text"
   ]
  },
  {
   "cell_type": "code",
   "execution_count": null,
   "metadata": {
    "id": "8HpgvTb72wtm"
   },
   "outputs": [],
   "source": [
    "df['review'] = df['review'].apply(clean_text)"
   ]
  },
  {
   "cell_type": "code",
   "execution_count": null,
   "metadata": {
    "id": "2I-Du1vR3EZN"
   },
   "outputs": [],
   "source": [
    "def sentiment2label(sentiment):\n",
    "    if sentiment == \"positive\":\n",
    "        return 1\n",
    "    else :\n",
    "        return 0\n",
    "\n",
    "df['sentiment'] = df['sentiment'].apply(sentiment2label)"
   ]
  },
  {
   "cell_type": "code",
   "execution_count": null,
   "metadata": {
    "colab": {
     "base_uri": "https://localhost:8080/"
    },
    "id": "YK3jPP3i3lRw",
    "outputId": "1efd8114-452e-40df-fd51-ebaf951656b0"
   },
   "outputs": [
    {
     "data": {
      "text/plain": [
       "0    12006\n",
       "1    11994\n",
       "Name: sentiment, dtype: int64"
      ]
     },
     "execution_count": 13,
     "metadata": {},
     "output_type": "execute_result"
    }
   ],
   "source": [
    "df['sentiment'].value_counts()"
   ]
  },
  {
   "cell_type": "code",
   "execution_count": null,
   "metadata": {
    "id": "StOb4mAa3rgo"
   },
   "outputs": [],
   "source": [
    "class_names = ['negative', 'positive']"
   ]
  },
  {
   "cell_type": "markdown",
   "metadata": {
    "id": "mmBGGgUVJBpT"
   },
   "source": [
    "### XLNetTokenizer"
   ]
  },
  {
   "cell_type": "code",
   "execution_count": null,
   "metadata": {
    "colab": {
     "base_uri": "https://localhost:8080/"
    },
    "id": "_YhP3FpFaMVt",
    "outputId": "bae09716-0b68-4bbf-e88a-6207206a162d"
   },
   "outputs": [
    {
     "name": "stdout",
     "output_type": "stream",
     "text": [
      "Looking in indexes: https://pypi.org/simple, https://us-python.pkg.dev/colab-wheels/public/simple/\n",
      "Requirement already satisfied: sentencepiece in /usr/local/lib/python3.9/dist-packages (0.1.97)\n"
     ]
    }
   ],
   "source": [
    "conda install sentencepiece"
   ]
  },
  {
   "cell_type": "code",
   "execution_count": null,
   "metadata": {
    "colab": {
     "base_uri": "https://localhost:8080/",
     "height": 81,
     "referenced_widgets": [
      "730ae158bf514284aa4b10d50df117ef",
      "2cc75b66cbc642dd9cfc46a1fdd7be35",
      "f40e7bb51c8a46c199e4d245279592ee",
      "e28ef6a4a1b64ee98ac58265576bbab5",
      "200ffd875d8045d4bd4a9f67bedae31b",
      "68f4da7d0c0641d49d79ed9e4c31c4fb",
      "d87588f48b8c457faa3d7b2e2b83c3cf",
      "f0731d1cb1204bf0a7c34a795989d3b2",
      "7aae7414b9754ba18b9597f5f596d789",
      "178616c6427348c9be59ea96ed126ca5",
      "e8b8fb61d7bd4dda8d987e8cb2ff6650",
      "579da271049c40cd8a82e1d682799716",
      "628b8b1df7564777948c14ae80a85b1a",
      "85bc10825ba34e50a9c5cb091637ac70",
      "bb35d785e8e544148e4c2618dc43c659",
      "aab3f2b8e5d441ad9782576dc410b24c",
      "9832a217d4e544059610e621aaf4a3ee",
      "245d232c375d4ce98d9feb6f971d6d89",
      "a75decc64a7243059e7f39689f50aac4",
      "947911871ded4e0ab679ddc8d415d859",
      "3765f472292743268ef8eaade44320e2",
      "bb2844f4522c48c79602bd02302d377a"
     ]
    },
    "id": "hVWO_38_32jL",
    "outputId": "3e2bf8a2-00ac-48db-c4ad-29077e64514e"
   },
   "outputs": [
    {
     "data": {
      "application/vnd.jupyter.widget-view+json": {
       "model_id": "730ae158bf514284aa4b10d50df117ef",
       "version_major": 2,
       "version_minor": 0
      },
      "text/plain": [
       "Downloading (…)ve/main/spiece.model:   0%|          | 0.00/798k [00:00<?, ?B/s]"
      ]
     },
     "metadata": {},
     "output_type": "display_data"
    },
    {
     "data": {
      "application/vnd.jupyter.widget-view+json": {
       "model_id": "579da271049c40cd8a82e1d682799716",
       "version_major": 2,
       "version_minor": 0
      },
      "text/plain": [
       "Downloading (…)lve/main/config.json:   0%|          | 0.00/760 [00:00<?, ?B/s]"
      ]
     },
     "metadata": {},
     "output_type": "display_data"
    }
   ],
   "source": [
    "from transformers import XLNetTokenizer, XLNetModel\n",
    "PRE_TRAINED_MODEL_NAME = 'xlnet-base-cased'\n",
    "tokenizer = XLNetTokenizer.from_pretrained(PRE_TRAINED_MODEL_NAME)"
   ]
  },
  {
   "cell_type": "code",
   "execution_count": null,
   "metadata": {
    "colab": {
     "base_uri": "https://localhost:8080/"
    },
    "id": "1ckpqWd_YWgZ",
    "outputId": "5110d33f-842a-421e-f483-862397bf64d7"
   },
   "outputs": [
    {
     "name": "stderr",
     "output_type": "stream",
     "text": [
      "Truncation was not explicitly activated but `max_length` is provided a specific value, please use `truncation=True` to explicitly truncate examples to max length. Defaulting to 'longest_first' truncation strategy. If you encode pairs of sequences (GLUE-style) with the tokenizer you can select this strategy more precisely by providing a specific strategy to `truncation`.\n"
     ]
    }
   ],
   "source": [
    "input_txt = \"India is my country. All Indians are my brothers and sisters\"\n",
    "encodings = tokenizer.encode_plus(input_txt, add_special_tokens=True, max_length=16, return_tensors='pt', return_token_type_ids=False, return_attention_mask=True, pad_to_max_length=False)"
   ]
  },
  {
   "cell_type": "code",
   "execution_count": null,
   "metadata": {
    "colab": {
     "base_uri": "https://localhost:8080/"
    },
    "id": "XR1xkLYtTurv",
    "outputId": "f3a28421-e8d1-4c29-8d83-68562ecc496b"
   },
   "outputs": [
    {
     "data": {
      "text/plain": [
       "torch.Tensor"
      ]
     },
     "execution_count": 20,
     "metadata": {},
     "output_type": "execute_result"
    }
   ],
   "source": [
    "type(encodings['attention_mask'])"
   ]
  },
  {
   "cell_type": "code",
   "execution_count": null,
   "metadata": {
    "id": "Pp97KX-9UtMK"
   },
   "outputs": [],
   "source": [
    "attention_mask = pad_sequences(encodings['attention_mask'], maxlen=512, dtype=torch.Tensor ,truncating=\"post\",padding=\"post\")"
   ]
  },
  {
   "cell_type": "code",
   "execution_count": null,
   "metadata": {
    "colab": {
     "base_uri": "https://localhost:8080/"
    },
    "id": "6Pzeyv1_UvMT",
    "outputId": "18cacd38-deb1-4fb2-8fea-28bfdff9e159"
   },
   "outputs": [
    {
     "data": {
      "text/plain": [
       "tensor([1, 1, 1, 1, 1, 1, 1, 1, 1, 1, 1, 1, 1, 1, 0, 0, 0, 0, 0, 0, 0, 0, 0, 0,\n",
       "        0, 0, 0, 0, 0, 0, 0, 0, 0, 0, 0, 0, 0, 0, 0, 0, 0, 0, 0, 0, 0, 0, 0, 0,\n",
       "        0, 0, 0, 0, 0, 0, 0, 0, 0, 0, 0, 0, 0, 0, 0, 0, 0, 0, 0, 0, 0, 0, 0, 0,\n",
       "        0, 0, 0, 0, 0, 0, 0, 0, 0, 0, 0, 0, 0, 0, 0, 0, 0, 0, 0, 0, 0, 0, 0, 0,\n",
       "        0, 0, 0, 0, 0, 0, 0, 0, 0, 0, 0, 0, 0, 0, 0, 0, 0, 0, 0, 0, 0, 0, 0, 0,\n",
       "        0, 0, 0, 0, 0, 0, 0, 0, 0, 0, 0, 0, 0, 0, 0, 0, 0, 0, 0, 0, 0, 0, 0, 0,\n",
       "        0, 0, 0, 0, 0, 0, 0, 0, 0, 0, 0, 0, 0, 0, 0, 0, 0, 0, 0, 0, 0, 0, 0, 0,\n",
       "        0, 0, 0, 0, 0, 0, 0, 0, 0, 0, 0, 0, 0, 0, 0, 0, 0, 0, 0, 0, 0, 0, 0, 0,\n",
       "        0, 0, 0, 0, 0, 0, 0, 0, 0, 0, 0, 0, 0, 0, 0, 0, 0, 0, 0, 0, 0, 0, 0, 0,\n",
       "        0, 0, 0, 0, 0, 0, 0, 0, 0, 0, 0, 0, 0, 0, 0, 0, 0, 0, 0, 0, 0, 0, 0, 0,\n",
       "        0, 0, 0, 0, 0, 0, 0, 0, 0, 0, 0, 0, 0, 0, 0, 0, 0, 0, 0, 0, 0, 0, 0, 0,\n",
       "        0, 0, 0, 0, 0, 0, 0, 0, 0, 0, 0, 0, 0, 0, 0, 0, 0, 0, 0, 0, 0, 0, 0, 0,\n",
       "        0, 0, 0, 0, 0, 0, 0, 0, 0, 0, 0, 0, 0, 0, 0, 0, 0, 0, 0, 0, 0, 0, 0, 0,\n",
       "        0, 0, 0, 0, 0, 0, 0, 0, 0, 0, 0, 0, 0, 0, 0, 0, 0, 0, 0, 0, 0, 0, 0, 0,\n",
       "        0, 0, 0, 0, 0, 0, 0, 0, 0, 0, 0, 0, 0, 0, 0, 0, 0, 0, 0, 0, 0, 0, 0, 0,\n",
       "        0, 0, 0, 0, 0, 0, 0, 0, 0, 0, 0, 0, 0, 0, 0, 0, 0, 0, 0, 0, 0, 0, 0, 0,\n",
       "        0, 0, 0, 0, 0, 0, 0, 0, 0, 0, 0, 0, 0, 0, 0, 0, 0, 0, 0, 0, 0, 0, 0, 0,\n",
       "        0, 0, 0, 0, 0, 0, 0, 0, 0, 0, 0, 0, 0, 0, 0, 0, 0, 0, 0, 0, 0, 0, 0, 0,\n",
       "        0, 0, 0, 0, 0, 0, 0, 0, 0, 0, 0, 0, 0, 0, 0, 0, 0, 0, 0, 0, 0, 0, 0, 0,\n",
       "        0, 0, 0, 0, 0, 0, 0, 0, 0, 0, 0, 0, 0, 0, 0, 0, 0, 0, 0, 0, 0, 0, 0, 0,\n",
       "        0, 0, 0, 0, 0, 0, 0, 0, 0, 0, 0, 0, 0, 0, 0, 0, 0, 0, 0, 0, 0, 0, 0, 0,\n",
       "        0, 0, 0, 0, 0, 0, 0, 0])"
      ]
     },
     "execution_count": 22,
     "metadata": {},
     "output_type": "execute_result"
    }
   ],
   "source": [
    "attention_mask = attention_mask.astype(dtype = 'int64')\n",
    "attention_mask = torch.tensor(attention_mask) \n",
    "attention_mask.flatten()"
   ]
  },
  {
   "cell_type": "code",
   "execution_count": null,
   "metadata": {
    "colab": {
     "base_uri": "https://localhost:8080/"
    },
    "id": "kM7cxiA9RlnA",
    "outputId": "856b6f9d-fe30-4057-f598-3fd936488ed3"
   },
   "outputs": [
    {
     "data": {
      "text/plain": [
       "tensor([[ 837,   27,   94,  234,    9,  394, 7056,   41,   94, 4194,   21, 8301,\n",
       "            4,    3]])"
      ]
     },
     "execution_count": 23,
     "metadata": {},
     "output_type": "execute_result"
    }
   ],
   "source": [
    "encodings['input_ids']"
   ]
  },
  {
   "cell_type": "markdown",
   "metadata": {
    "id": "M12PPghlJUbg"
   },
   "source": [
    "### distribution of token lengths"
   ]
  },
  {
   "cell_type": "code",
   "execution_count": null,
   "metadata": {
    "id": "zW4_SrOw4BDy"
   },
   "outputs": [],
   "source": [
    "token_lens = []\n",
    "\n",
    "for txt in df['review']:\n",
    "  tokens = tokenizer.encode(txt, max_length=512)\n",
    "  token_lens.append(len(tokens))"
   ]
  },
  {
   "cell_type": "code",
   "execution_count": null,
   "metadata": {
    "id": "CR3rHUQR4pDE"
   },
   "outputs": [],
   "source": [
    "MAX_LEN = 512"
   ]
  },
  {
   "cell_type": "markdown",
   "metadata": {
    "id": "e6Kutw4dJyUG"
   },
   "source": [
    "### Custom Dataset class"
   ]
  },
  {
   "cell_type": "code",
   "execution_count": null,
   "metadata": {
    "id": "q2NOYXcjPK4z"
   },
   "outputs": [],
   "source": [
    "class ImdbDataset(Dataset):\n",
    "\n",
    "    def __init__(self, reviews, targets, tokenizer, max_len):\n",
    "        self.reviews = reviews\n",
    "        self.targets = targets\n",
    "        self.tokenizer = tokenizer\n",
    "        self.max_len = max_len\n",
    "    \n",
    "    def __len__(self):\n",
    "        return len(self.reviews)\n",
    "    \n",
    "    def __getitem__(self, item):\n",
    "        review = str(self.reviews[item])\n",
    "        target = self.targets[item]\n",
    "\n",
    "        encoding = self.tokenizer.encode_plus(\n",
    "        review,\n",
    "        add_special_tokens=True,\n",
    "        max_length=self.max_len,\n",
    "        return_token_type_ids=False,\n",
    "        pad_to_max_length=False,\n",
    "        return_attention_mask=True,\n",
    "        return_tensors='pt',\n",
    "        )\n",
    "\n",
    "        input_ids = pad_sequences(encoding['input_ids'], maxlen=MAX_LEN, dtype=torch.Tensor ,truncating=\"post\",padding=\"post\")\n",
    "        input_ids = input_ids.astype(dtype = 'int64')\n",
    "        input_ids = torch.tensor(input_ids) \n",
    "\n",
    "        attention_mask = pad_sequences(encoding['attention_mask'], maxlen=MAX_LEN, dtype=torch.Tensor ,truncating=\"post\",padding=\"post\")\n",
    "        attention_mask = attention_mask.astype(dtype = 'int64')\n",
    "        attention_mask = torch.tensor(attention_mask)       \n",
    "\n",
    "        return {\n",
    "        'review_text': review,\n",
    "        'input_ids': input_ids,\n",
    "        'attention_mask': attention_mask.flatten(),\n",
    "        'targets': torch.tensor(target, dtype=torch.long)\n",
    "        }"
   ]
  },
  {
   "cell_type": "code",
   "execution_count": null,
   "metadata": {
    "id": "wYXt2AtW6iaT"
   },
   "outputs": [],
   "source": [
    "df_train, df_test = train_test_split(df, test_size=0.5, random_state=101)\n",
    "df_val, df_test = train_test_split(df_test, test_size=0.5, random_state=101)"
   ]
  },
  {
   "cell_type": "code",
   "execution_count": null,
   "metadata": {
    "colab": {
     "base_uri": "https://localhost:8080/"
    },
    "id": "VmAsa9pg6oac",
    "outputId": "4ed2d25e-9f2d-425f-82df-6f75c8134119"
   },
   "outputs": [
    {
     "data": {
      "text/plain": [
       "((12000, 2), (6000, 2), (6000, 2))"
      ]
     },
     "execution_count": 29,
     "metadata": {},
     "output_type": "execute_result"
    }
   ],
   "source": [
    "df_train.shape, df_val.shape, df_test.shape"
   ]
  },
  {
   "cell_type": "markdown",
   "metadata": {
    "id": "iFw2z6ElMZMX"
   },
   "source": [
    "### Custom Dataloader"
   ]
  },
  {
   "cell_type": "code",
   "execution_count": null,
   "metadata": {
    "id": "3rd7890Z6zLr"
   },
   "outputs": [],
   "source": [
    "def create_data_loader(df, tokenizer, max_len, batch_size):\n",
    "  ds = ImdbDataset(\n",
    "    reviews=df.review.to_numpy(),\n",
    "    targets=df.sentiment.to_numpy(),\n",
    "    tokenizer=tokenizer,\n",
    "    max_len=max_len\n",
    "  )\n",
    "\n",
    "  return DataLoader(\n",
    "    ds,\n",
    "    batch_size=batch_size,\n",
    "    num_workers=4\n",
    "  )"
   ]
  },
  {
   "cell_type": "code",
   "execution_count": null,
   "metadata": {
    "colab": {
     "base_uri": "https://localhost:8080/"
    },
    "id": "tVU8o6i569ly",
    "outputId": "22731eed-04c9-4ec1-e997-9df57bc78625"
   },
   "outputs": [
    {
     "name": "stderr",
     "output_type": "stream",
     "text": [
      "/usr/local/lib/python3.9/dist-packages/torch/utils/data/dataloader.py:554: UserWarning: This DataLoader will create 4 worker processes in total. Our suggested max number of worker in current system is 2, which is smaller than what this DataLoader is going to create. Please be aware that excessive worker creation might get DataLoader running slow or even freeze, lower the worker number to avoid potential slowness/freeze if necessary.\n",
      "  warnings.warn(_create_warning_msg(\n"
     ]
    }
   ],
   "source": [
    "BATCH_SIZE = 4\n",
    "\n",
    "train_data_loader = create_data_loader(df_train, tokenizer, MAX_LEN, BATCH_SIZE)\n",
    "val_data_loader = create_data_loader(df_val, tokenizer, MAX_LEN, BATCH_SIZE)\n",
    "test_data_loader = create_data_loader(df_test, tokenizer, MAX_LEN, BATCH_SIZE)"
   ]
  },
  {
   "cell_type": "markdown",
   "metadata": {
    "id": "aC5D5Dh8J5w9"
   },
   "source": [
    "### Loading the Pre-trained XLNet"
   ]
  },
  {
   "cell_type": "code",
   "execution_count": null,
   "metadata": {
    "colab": {
     "base_uri": "https://localhost:8080/",
     "height": 154,
     "referenced_widgets": [
      "58f1f389e02b451b9de95d1f288f8e74",
      "a4da321b6d91403bbb4b10473948443b",
      "0f3441e1c7754f6684f5a6eb5a7d97ed",
      "25fe7afd38984229b9e79315076200e3",
      "a2afd57f164d467bab52b57399236835",
      "3683b7bb22fc46e28231fa97a9fbc93f",
      "ab2c6b5329184907bf3fd7114c321e29",
      "07df188c5af94ac1ace4f148b998ed6e",
      "da4f8537dccd4e2c9596a3c35c159cec",
      "f0e441ca549047c5bc2c64420ca13b67",
      "b9330c3888fa4ac69431ae4d976e6cab"
     ]
    },
    "id": "H5mC8v6i7VH1",
    "outputId": "beb4ae7e-ae4b-4d3a-fb43-e7ef7b817dab"
   },
   "outputs": [
    {
     "data": {
      "application/vnd.jupyter.widget-view+json": {
       "model_id": "58f1f389e02b451b9de95d1f288f8e74",
       "version_major": 2,
       "version_minor": 0
      },
      "text/plain": [
       "Downloading pytorch_model.bin:   0%|          | 0.00/467M [00:00<?, ?B/s]"
      ]
     },
     "metadata": {},
     "output_type": "display_data"
    },
    {
     "name": "stderr",
     "output_type": "stream",
     "text": [
      "Some weights of the model checkpoint at xlnet-base-cased were not used when initializing XLNetForSequenceClassification: ['lm_loss.weight', 'lm_loss.bias']\n",
      "- This IS expected if you are initializing XLNetForSequenceClassification from the checkpoint of a model trained on another task or with another architecture (e.g. initializing a BertForSequenceClassification model from a BertForPreTraining model).\n",
      "- This IS NOT expected if you are initializing XLNetForSequenceClassification from the checkpoint of a model that you expect to be exactly identical (initializing a BertForSequenceClassification model from a BertForSequenceClassification model).\n",
      "Some weights of XLNetForSequenceClassification were not initialized from the model checkpoint at xlnet-base-cased and are newly initialized: ['sequence_summary.summary.weight', 'logits_proj.bias', 'sequence_summary.summary.bias', 'logits_proj.weight']\n",
      "You should probably TRAIN this model on a down-stream task to be able to use it for predictions and inference.\n"
     ]
    }
   ],
   "source": [
    "from transformers import XLNetForSequenceClassification\n",
    "model = XLNetForSequenceClassification.from_pretrained('xlnet-base-cased', num_labels = 2)\n",
    "model = model.to(device)"
   ]
  },
  {
   "cell_type": "markdown",
   "metadata": {
    "id": "vpn2sTTMK_zL"
   },
   "source": [
    "### Setting Hyperparameters"
   ]
  },
  {
   "cell_type": "code",
   "execution_count": null,
   "metadata": {
    "colab": {
     "base_uri": "https://localhost:8080/"
    },
    "id": "aQ9Od31B9YJa",
    "outputId": "bc9cd032-f3b6-406b-d62b-d4d9b18eaa09"
   },
   "outputs": [
    {
     "name": "stderr",
     "output_type": "stream",
     "text": [
      "/usr/local/lib/python3.9/dist-packages/transformers/optimization.py:391: FutureWarning: This implementation of AdamW is deprecated and will be removed in a future version. Use the PyTorch implementation torch.optim.AdamW instead, or set `no_deprecation_warning=True` to disable this warning\n",
      "  warnings.warn(\n"
     ]
    }
   ],
   "source": [
    "EPOCHS = 3\n",
    "\n",
    "param_optimizer = list(model.named_parameters())\n",
    "no_decay = ['bias', 'LayerNorm.bias', 'LayerNorm.weight']\n",
    "optimizer_grouped_parameters = [\n",
    "                                {'params': [p for n, p in param_optimizer if not any(nd in n for nd in no_decay)], 'weight_decay': 0.01},\n",
    "                                {'params': [p for n, p in param_optimizer if any(nd in n for nd in no_decay)], 'weight_decay':0.0}\n",
    "]\n",
    "optimizer = AdamW(optimizer_grouped_parameters, lr=3e-5)\n",
    "\n",
    "total_steps = len(train_data_loader) * EPOCHS\n",
    "\n",
    "scheduler = get_linear_schedule_with_warmup(\n",
    "  optimizer,\n",
    "  num_warmup_steps=0,\n",
    "  num_training_steps=total_steps\n",
    ")"
   ]
  },
  {
   "cell_type": "markdown",
   "metadata": {
    "id": "G2AtJcvwLV3x"
   },
   "source": [
    "### checking with one batch"
   ]
  },
  {
   "cell_type": "code",
   "execution_count": null,
   "metadata": {
    "colab": {
     "base_uri": "https://localhost:8080/"
    },
    "id": "rUoaMqjvKdym",
    "outputId": "7d072e1d-ca72-4663-da1d-98b3130dd855"
   },
   "outputs": [
    {
     "data": {
      "text/plain": [
       "dict_keys(['review_text', 'input_ids', 'attention_mask', 'targets'])"
      ]
     },
     "execution_count": 35,
     "metadata": {},
     "output_type": "execute_result"
    }
   ],
   "source": [
    "data = next(iter(val_data_loader))\n",
    "data.keys()"
   ]
  },
  {
   "cell_type": "code",
   "execution_count": null,
   "metadata": {
    "colab": {
     "base_uri": "https://localhost:8080/"
    },
    "id": "RIUB5WJNKhBs",
    "outputId": "e7f0bebf-45b5-4cb0-9366-d0be9d048c55"
   },
   "outputs": [
    {
     "name": "stdout",
     "output_type": "stream",
     "text": [
      "torch.Size([4, 512])\n",
      "torch.Size([4, 512])\n"
     ]
    }
   ],
   "source": [
    "input_ids = data['input_ids'].to(device)\n",
    "attention_mask = data['attention_mask'].to(device)\n",
    "targets = data['targets'].to(device)\n",
    "print(input_ids.reshape(4,512).shape) # batch size x seq length\n",
    "print(attention_mask.shape) # batch size x seq length"
   ]
  },
  {
   "cell_type": "code",
   "execution_count": null,
   "metadata": {
    "colab": {
     "base_uri": "https://localhost:8080/"
    },
    "id": "EYsDR9leYb4Z",
    "outputId": "9bc7c0b4-2348-42db-ee85-ae62c7b23334"
   },
   "outputs": [
    {
     "data": {
      "text/plain": [
       "tensor([[   35,    26,   215,   435,    52,  1365,    21,  3353,     9,  4716,\n",
       "          2537,    31,    58,   162,   192,    40,    24,  1288,   275,  2263,\n",
       "            22,   182,    24,    17,    26, 16071,   778,    26,    29,  3469,\n",
       "           107,   151,    24, 18041,  3401,    17, 16847,   939,     9,  1577,\n",
       "           477,   805,    57,   195,   406,  1825,    22,   107,    21,    63,\n",
       "          8008,  4623,    38,    58,  5754,     9,    17,  2369,    17,  2369,\n",
       "            17, 29720,    63,   220,    26,    46,     9,  7174,    63,    26,\n",
       "            88, 23064,   151,    37,    24,   321, 17785, 19167,    61,    51,\n",
       "           106,  3404,  3728,   705,    21,   113, 30977,    23,    27,  2640,\n",
       "           641,    20, 13943, 30436,     9,    17,  2369,    17,  2369,    35,\n",
       "           937,    22,   287,   197,   124,    20,   166,  6454,    25,   124,\n",
       "          1432,   545,   292,     9,  1988, 11247, 27288,    56,  9185,   675,\n",
       "           110,    24, 16180,    21,    18,  4948,    30,   102, 10488,  1062,\n",
       "            29,    36,   738,    24,   434,    20,  5632, 16055,    21,   555,\n",
       "         15450,  4140, 30182, 11247,     9,   394,    25,    71,    65,    20,\n",
       "            18,  2598,  3640,  6941, 17045,    23,    35,    26,   189,   545,\n",
       "           566,     9,     9,     9,   443,    35,    26,   189,   566,    24,\n",
       "           434,     9,     4,     3,     0,     0,     0,     0,     0,     0,\n",
       "             0,     0,     0,     0,     0,     0,     0,     0,     0,     0,\n",
       "             0,     0,     0,     0,     0,     0,     0,     0,     0,     0,\n",
       "             0,     0,     0,     0,     0,     0,     0,     0,     0,     0,\n",
       "             0,     0,     0,     0,     0,     0,     0,     0,     0,     0,\n",
       "             0,     0,     0,     0,     0,     0,     0,     0,     0,     0,\n",
       "             0,     0,     0,     0,     0,     0,     0,     0,     0,     0,\n",
       "             0,     0,     0,     0,     0,     0,     0,     0,     0,     0,\n",
       "             0,     0,     0,     0,     0,     0,     0,     0,     0,     0,\n",
       "             0,     0,     0,     0,     0,     0,     0,     0,     0,     0,\n",
       "             0,     0,     0,     0,     0,     0,     0,     0,     0,     0,\n",
       "             0,     0,     0,     0,     0,     0,     0,     0,     0,     0,\n",
       "             0,     0,     0,     0,     0,     0,     0,     0,     0,     0,\n",
       "             0,     0,     0,     0,     0,     0,     0,     0,     0,     0,\n",
       "             0,     0,     0,     0,     0,     0,     0,     0,     0,     0,\n",
       "             0,     0,     0,     0,     0,     0,     0,     0,     0,     0,\n",
       "             0,     0,     0,     0,     0,     0,     0,     0,     0,     0,\n",
       "             0,     0,     0,     0,     0,     0,     0,     0,     0,     0,\n",
       "             0,     0,     0,     0,     0,     0,     0,     0,     0,     0,\n",
       "             0,     0,     0,     0,     0,     0,     0,     0,     0,     0,\n",
       "             0,     0,     0,     0,     0,     0,     0,     0,     0,     0,\n",
       "             0,     0,     0,     0,     0,     0,     0,     0,     0,     0,\n",
       "             0,     0,     0,     0,     0,     0,     0,     0,     0,     0,\n",
       "             0,     0,     0,     0,     0,     0,     0,     0,     0,     0,\n",
       "             0,     0,     0,     0,     0,     0,     0,     0,     0,     0,\n",
       "             0,     0,     0,     0,     0,     0,     0,     0,     0,     0,\n",
       "             0,     0,     0,     0,     0,     0,     0,     0,     0,     0,\n",
       "             0,     0,     0,     0,     0,     0,     0,     0,     0,     0,\n",
       "             0,     0,     0,     0,     0,     0,     0,     0,     0,     0,\n",
       "             0,     0,     0,     0,     0,     0,     0,     0,     0,     0,\n",
       "             0,     0,     0,     0,     0,     0,     0,     0,     0,     0,\n",
       "             0,     0,     0,     0,     0,     0,     0,     0,     0,     0,\n",
       "             0,     0,     0,     0,     0,     0,     0,     0,     0,     0,\n",
       "             0,     0,     0,     0,     0,     0,     0,     0,     0,     0,\n",
       "             0,     0]], device='cuda:0')"
      ]
     },
     "execution_count": 37,
     "metadata": {},
     "output_type": "execute_result"
    }
   ],
   "source": [
    "input_ids[0]"
   ]
  },
  {
   "cell_type": "code",
   "execution_count": null,
   "metadata": {
    "colab": {
     "base_uri": "https://localhost:8080/"
    },
    "id": "KCFLKXL0KmaA",
    "outputId": "846f2966-1dde-4ba5-f3d6-3521e015e10d"
   },
   "outputs": [
    {
     "data": {
      "text/plain": [
       "XLNetForSequenceClassificationOutput(loss=tensor(0.6338, device='cuda:0', grad_fn=<NllLossBackward0>), logits=tensor([[ 0.1064, -0.0933],\n",
       "        [ 0.1832, -0.1732],\n",
       "        [ 0.1189, -0.1197],\n",
       "        [ 0.2578, -0.2559]], device='cuda:0', grad_fn=<AddmmBackward0>), mems=(tensor([[[ 0.0257,  0.0011, -0.0448,  ..., -0.0297,  0.0106, -0.0088],\n",
       "         [-0.0415,  0.0177,  0.0402,  ...,  0.0531, -0.0284, -0.0153],\n",
       "         [ 0.0257,  0.0011, -0.0448,  ..., -0.0297,  0.0106, -0.0088],\n",
       "         [-0.0846, -0.0144, -0.0604,  ...,  0.1511, -0.0151,  0.0457]],\n",
       "\n",
       "        [[-0.0564, -0.0022, -0.0290,  ...,  0.0329,  0.0430, -0.0191],\n",
       "         [-0.0306,  0.0898,  0.0013,  ...,  0.0369,  0.0740,  0.0559],\n",
       "         [ 0.0251, -0.0208,  0.0378,  ...,  0.0044,  0.0551, -0.0330],\n",
       "         [ 0.0189,  0.0707,  0.0113,  ...,  0.0709,  0.0096,  0.1102]],\n",
       "\n",
       "        [[ 0.0168, -0.0097, -0.0105,  ...,  0.0206,  0.0429,  0.0055],\n",
       "         [-0.0092,  0.0315,  0.0652,  ...,  0.0869,  0.0206,  0.0274],\n",
       "         [-0.0050,  0.1086,  0.0374,  ...,  0.0556,  0.0943, -0.0156],\n",
       "         [-0.0181,  0.0023, -0.0315,  ..., -0.0262, -0.0153, -0.0046]],\n",
       "\n",
       "        ...,\n",
       "\n",
       "        [[-0.0049,  0.0655, -0.0151,  ..., -0.0458, -0.0061,  0.0346],\n",
       "         [-0.0049,  0.0655, -0.0151,  ..., -0.0458, -0.0061,  0.0346],\n",
       "         [-0.0049,  0.0655, -0.0151,  ..., -0.0458, -0.0061,  0.0346],\n",
       "         [-0.0049,  0.0655, -0.0151,  ..., -0.0458, -0.0061,  0.0346]],\n",
       "\n",
       "        [[-0.0049,  0.0655, -0.0151,  ..., -0.0458, -0.0061,  0.0346],\n",
       "         [-0.0049,  0.0655, -0.0151,  ..., -0.0458, -0.0061,  0.0346],\n",
       "         [-0.0049,  0.0655, -0.0151,  ..., -0.0458, -0.0061,  0.0346],\n",
       "         [-0.0049,  0.0655, -0.0151,  ..., -0.0458, -0.0061,  0.0346]],\n",
       "\n",
       "        [[-0.0049,  0.0655, -0.0151,  ..., -0.0458, -0.0061,  0.0346],\n",
       "         [-0.0049,  0.0655, -0.0151,  ..., -0.0458, -0.0061,  0.0346],\n",
       "         [-0.0049,  0.0655, -0.0151,  ..., -0.0458, -0.0061,  0.0346],\n",
       "         [-0.0049,  0.0655, -0.0151,  ..., -0.0458, -0.0061,  0.0346]]],\n",
       "       device='cuda:0'), tensor([[[ 0.1204, -0.6337, -1.4878,  ...,  0.2707, -0.7892,  0.9346],\n",
       "         [-1.4038,  0.1816,  0.1318,  ...,  0.4811, -0.8471, -0.2106],\n",
       "         [ 0.6376, -0.3975, -0.8696,  ..., -0.2407, -0.0988,  0.5510],\n",
       "         [-1.6983,  0.3566, -1.3953,  ...,  2.3199, -0.2786,  0.2846]],\n",
       "\n",
       "        [[-1.5261, -0.3997, -0.1920,  ...,  0.7039, -0.0779,  1.1339],\n",
       "         [-0.5083,  1.7931,  0.2510,  ...,  0.5419,  2.5219,  1.0991],\n",
       "         [ 0.6059, -0.4001,  0.9868,  ..., -0.0102,  0.5072, -0.0269],\n",
       "         [ 0.1555,  1.8244, -0.1000,  ...,  0.4392,  0.2283,  2.4824]],\n",
       "\n",
       "        [[-0.3956, -0.2635, -0.1067,  ...,  0.1678, -0.6261,  0.5085],\n",
       "         [ 0.4147,  1.3075,  0.7734,  ...,  0.8544, -0.1766,  1.2229],\n",
       "         [ 0.3081,  1.7889,  1.4789,  ...,  0.6303,  2.1271, -0.2235],\n",
       "         [ 0.0112, -0.4708, -1.1226,  ..., -0.4429, -0.0677,  0.4348]],\n",
       "\n",
       "        ...,\n",
       "\n",
       "        [[ 0.0819,  1.9453,  0.0265,  ..., -0.5581, -0.7307,  0.7609],\n",
       "         [ 0.2261,  1.9676, -0.1173,  ..., -0.6615, -0.7704,  0.7689],\n",
       "         [ 0.2105,  1.9433,  0.0422,  ..., -0.4128, -0.5458,  0.7994],\n",
       "         [ 0.0278,  2.0178,  0.0472,  ..., -0.5998, -1.1943,  0.7573]],\n",
       "\n",
       "        [[ 0.0999,  1.9609,  0.0683,  ..., -0.4933, -0.7227,  0.7220],\n",
       "         [ 0.1970,  1.9292, -0.1016,  ..., -0.7533, -0.8320,  0.8144],\n",
       "         [ 0.2446,  1.9082, -0.0069,  ..., -0.3933, -0.4640,  0.7880],\n",
       "         [ 0.0411,  1.9514,  0.0211,  ..., -0.7018, -1.2402,  0.7795]],\n",
       "\n",
       "        [[ 0.1209,  1.9341,  0.0622,  ..., -0.5810, -0.7759,  0.7467],\n",
       "         [ 0.1666,  1.9360, -0.1053,  ..., -0.7765, -0.8495,  0.8292],\n",
       "         [ 0.2324,  1.8519,  0.0123,  ..., -0.4328, -0.5084,  0.7958],\n",
       "         [ 0.0534,  1.9457,  0.0153,  ..., -0.7287, -1.2533,  0.7750]]],\n",
       "       device='cuda:0'), tensor([[[-0.0141, -0.6029, -1.9364,  ...,  0.8611, -1.0802,  1.3455],\n",
       "         [-1.0213, -0.1464, -0.4712,  ...,  0.8937, -0.9725, -0.1314],\n",
       "         [ 0.5506, -0.2967, -0.7335,  ...,  0.2505,  0.0753,  0.0465],\n",
       "         [-0.9772,  0.5017, -0.9936,  ...,  2.1486, -0.4028, -0.1621]],\n",
       "\n",
       "        [[-1.5473, -0.5080, -0.9400,  ...,  0.9164, -0.2790,  1.1082],\n",
       "         [-0.5517,  1.5841,  0.1610,  ...,  0.7878,  1.5147,  0.3797],\n",
       "         [ 0.6006, -0.2343,  0.9187,  ..., -0.3258,  0.1517, -0.0845],\n",
       "         [ 0.2499,  1.9335,  0.2306,  ...,  0.2172,  0.8647,  0.6460]],\n",
       "\n",
       "        [[-0.4344, -0.1842, -0.6562,  ...,  0.6682, -0.6632,  0.8363],\n",
       "         [ 0.0084,  0.4843,  1.4084,  ...,  0.7949, -0.6511,  1.5582],\n",
       "         [ 0.4353,  1.3889,  0.9550,  ...,  0.6358,  1.9122,  0.1694],\n",
       "         [-0.3480, -0.7536, -0.8148,  ...,  0.0263,  0.7898,  0.1695]],\n",
       "\n",
       "        ...,\n",
       "\n",
       "        [[-0.3266,  1.9194,  0.2189,  ...,  0.0997, -0.6220,  0.6268],\n",
       "         [-0.2254,  1.6751,  0.3032,  ...,  0.0232, -0.8215,  0.7156],\n",
       "         [-0.1201,  1.7398,  0.3220,  ..., -0.0805, -0.3233,  0.7420],\n",
       "         [-0.4298,  1.8455,  0.5127,  ...,  0.3498, -1.0682,  0.3425]],\n",
       "\n",
       "        [[-0.3746,  1.8179,  0.1948,  ...,  0.1415, -0.6959,  0.5826],\n",
       "         [-0.2319,  1.6559,  0.2954,  ..., -0.0648, -0.8099,  0.8252],\n",
       "         [-0.1060,  1.7542,  0.3486,  ..., -0.1051, -0.2368,  0.6827],\n",
       "         [-0.4636,  1.8382,  0.5354,  ...,  0.2824, -1.0934,  0.4435]],\n",
       "\n",
       "        [[-0.4087,  1.7754,  0.2480,  ...,  0.0442, -0.7768,  0.6529],\n",
       "         [-0.2369,  1.6475,  0.3151,  ..., -0.0733, -0.8129,  0.8630],\n",
       "         [-0.1363,  1.7256,  0.3504,  ..., -0.1306, -0.2772,  0.6979],\n",
       "         [-0.4736,  1.8579,  0.5134,  ...,  0.2456, -1.0613,  0.4738]]],\n",
       "       device='cuda:0'), tensor([[[ 0.0150, -0.1182, -1.7752,  ...,  1.1762, -1.3224, -0.0641],\n",
       "         [-0.9774, -0.7879, -0.9872,  ...,  1.7010, -0.9221, -1.3174],\n",
       "         [ 0.1204, -0.2347, -1.0991,  ...,  0.4509, -0.0928, -0.5352],\n",
       "         [-1.7412,  0.6249, -0.8614,  ...,  2.8592, -0.1267, -1.5434]],\n",
       "\n",
       "        [[-0.9910, -0.6245, -1.4407,  ...,  0.9861, -0.2488,  0.5032],\n",
       "         [-0.5242,  2.0183,  0.4265,  ...,  1.0008,  1.6217,  0.8289],\n",
       "         [ 0.0301, -0.1693,  0.6327,  ..., -0.0040,  0.1856, -0.0691],\n",
       "         [-0.9880,  2.3518, -0.0147,  ...,  1.7211,  0.7224, -1.6761]],\n",
       "\n",
       "        [[-0.3703,  0.0840, -0.7415,  ...,  1.2723, -0.6313,  0.5180],\n",
       "         [-0.3661,  0.5286,  1.4848,  ...,  1.5341, -0.5079,  1.1359],\n",
       "         [ 0.0364,  1.0656,  0.4521,  ...,  1.0327,  2.2564, -0.3155],\n",
       "         [-1.3371, -0.9711, -0.3442,  ...,  0.5280,  0.7428, -1.6351]],\n",
       "\n",
       "        ...,\n",
       "\n",
       "        [[-0.5161,  2.8082,  0.1787,  ...,  0.8232, -0.7654,  1.0551],\n",
       "         [-0.3395,  2.4565,  0.4568,  ...,  0.8714, -1.0463,  0.7585],\n",
       "         [-0.2391,  2.8354,  0.2497,  ...,  0.7677, -0.5157,  1.4015],\n",
       "         [-0.5341,  2.7848,  0.5037,  ...,  1.3017, -1.4380, -0.1603]],\n",
       "\n",
       "        [[-0.4964,  2.7875,  0.0983,  ...,  0.9791, -0.8448,  0.9899],\n",
       "         [-0.3513,  2.4687,  0.4414,  ...,  0.7470, -0.9758,  1.0011],\n",
       "         [-0.2621,  2.8308,  0.2682,  ...,  0.6577, -0.3788,  1.4339],\n",
       "         [-0.5823,  2.7552,  0.5554,  ...,  1.1722, -1.4567,  0.0884]],\n",
       "\n",
       "        [[-0.4916,  2.7649,  0.1500,  ...,  0.9155, -0.9356,  1.0857],\n",
       "         [-0.3714,  2.4385,  0.4529,  ...,  0.7665, -0.9519,  1.0828],\n",
       "         [-0.2981,  2.7865,  0.2967,  ...,  0.6395, -0.3986,  1.4935],\n",
       "         [-0.5928,  2.7687,  0.5414,  ...,  1.1217, -1.4005,  0.1916]]],\n",
       "       device='cuda:0'), tensor([[[ 0.1610, -0.2400, -1.6912,  ...,  1.5236, -1.5446,  0.8500],\n",
       "         [-0.8274, -0.7225, -1.2874,  ...,  1.7170, -0.4700, -0.3783],\n",
       "         [ 0.1933, -0.4320, -0.7969,  ...,  0.7664, -0.5416, -0.2150],\n",
       "         [-0.9422, -0.1584, -1.2182,  ...,  2.2140,  0.4234, -0.6860]],\n",
       "\n",
       "        [[-1.1949, -0.5424, -1.3052,  ...,  1.2538, -1.1453,  0.7538],\n",
       "         [-0.4880,  1.2986,  0.4315,  ...,  1.3848,  1.7451,  1.0479],\n",
       "         [-0.5120, -0.7535,  0.6921,  ...,  0.3087, -0.5386, -0.5268],\n",
       "         [-0.1909,  1.4836, -0.2925,  ...,  2.3993,  1.0854, -1.1500]],\n",
       "\n",
       "        [[-0.3571,  0.0244, -0.8506,  ...,  1.3331, -1.2652,  0.5378],\n",
       "         [-0.2642, -0.0338,  0.6702,  ...,  1.9914, -0.3366,  1.4831],\n",
       "         [-0.4731,  0.3156,  0.3351,  ...,  1.2686,  1.5726, -0.4727],\n",
       "         [-0.8566, -0.6489, -0.3159,  ...,  1.2308,  1.0214, -1.0220]],\n",
       "\n",
       "        ...,\n",
       "\n",
       "        [[-0.1252,  2.2208,  0.0139,  ...,  1.3930, -0.0974,  1.5411],\n",
       "         [-0.1691,  2.1487,  0.0635,  ...,  1.5955, -0.5786,  1.4812],\n",
       "         [ 0.2106,  2.1883,  0.3494,  ...,  1.1961,  0.1351,  1.7806],\n",
       "         [-0.3716,  2.4826,  0.1955,  ...,  1.9806, -1.3050,  0.6892]],\n",
       "\n",
       "        [[-0.0543,  2.1910,  0.0209,  ...,  1.3978, -0.0507,  1.6209],\n",
       "         [-0.0285,  2.1683,  0.0349,  ...,  1.5252, -0.3623,  1.5932],\n",
       "         [ 0.2335,  2.1591,  0.4043,  ...,  1.1012,  0.2986,  1.8356],\n",
       "         [-0.3520,  2.4762,  0.2687,  ...,  1.8633, -1.2800,  0.7516]],\n",
       "\n",
       "        [[-0.0060,  2.1660,  0.0421,  ...,  1.3851, -0.1785,  1.6190],\n",
       "         [ 0.0069,  2.1192,  0.0146,  ...,  1.5857, -0.3206,  1.5945],\n",
       "         [ 0.2056,  2.1221,  0.4171,  ...,  1.0984,  0.2911,  1.8676],\n",
       "         [-0.3596,  2.4717,  0.2525,  ...,  1.8416, -1.2128,  0.7798]]],\n",
       "       device='cuda:0'), tensor([[[ 0.4633, -0.1672, -1.0594,  ...,  0.7387, -0.7885,  0.6815],\n",
       "         [-0.6645, -0.4908, -1.0176,  ...,  1.1462, -0.3416, -0.5830],\n",
       "         [ 0.5065, -0.0869, -0.6251,  ...,  0.2640, -0.3078, -0.3682],\n",
       "         [-0.4995, -0.3152, -0.6507,  ...,  2.1049, -0.0112, -0.2585]],\n",
       "\n",
       "        [[-0.3386, -0.3843, -1.0622,  ...,  0.6171, -0.2611,  0.1434],\n",
       "         [-0.5603,  0.9648,  0.0751,  ...,  0.8216,  0.9050,  0.4714],\n",
       "         [-0.2779, -0.5422,  0.4338,  ...,  0.2433, -0.3747, -0.6908],\n",
       "         [-0.2285,  0.8864,  0.0635,  ...,  1.9937,  0.2898, -0.6646]],\n",
       "\n",
       "        [[-0.0458,  0.0228, -0.8550,  ...,  0.7123, -0.4844,  0.1654],\n",
       "         [-0.5167,  0.1908,  0.1137,  ...,  1.1896, -0.0767,  0.8536],\n",
       "         [-0.3864,  0.3587, -0.2210,  ...,  0.7283,  0.7515, -0.4209],\n",
       "         [-0.5366, -0.4728, -0.0832,  ...,  1.5423,  0.5366, -0.4687]],\n",
       "\n",
       "        ...,\n",
       "\n",
       "        [[-0.0801,  1.8811,  0.1483,  ...,  1.2679, -0.4015,  1.0977],\n",
       "         [-0.0524,  1.5494,  0.2579,  ...,  1.2906, -0.5983,  0.8158],\n",
       "         [ 0.2412,  1.9365,  0.4111,  ...,  1.0711, -0.1649,  1.0012],\n",
       "         [ 0.3315,  1.7720,  0.2053,  ...,  1.2895, -0.9797,  1.0009]],\n",
       "\n",
       "        [[ 0.0148,  1.8991,  0.1579,  ...,  1.3397, -0.3674,  1.0209],\n",
       "         [ 0.0165,  1.6113,  0.1288,  ...,  1.3150, -0.4621,  0.9620],\n",
       "         [ 0.2827,  1.9061,  0.4575,  ...,  1.0605, -0.1109,  1.0673],\n",
       "         [ 0.3616,  1.7713,  0.2141,  ...,  1.2530, -0.9731,  1.1111]],\n",
       "\n",
       "        [[ 0.0982,  1.8700,  0.1316,  ...,  1.2683, -0.4190,  1.0683],\n",
       "         [ 0.0229,  1.5902,  0.0449,  ...,  1.4032, -0.4453,  1.0211],\n",
       "         [ 0.2496,  1.8794,  0.4869,  ...,  1.0482, -0.1187,  1.0706],\n",
       "         [ 0.3366,  1.7745,  0.1855,  ...,  1.3070, -0.9622,  1.1296]]],\n",
       "       device='cuda:0'), tensor([[[ 3.6848e-01, -7.8261e-01, -1.6917e+00,  ...,  9.0398e-01,\n",
       "          -9.3173e-01,  1.1175e+00],\n",
       "         [-6.6114e-01, -7.2804e-01, -1.2434e+00,  ...,  1.6630e+00,\n",
       "          -3.0873e-01, -2.9893e-01],\n",
       "         [ 4.0156e-01, -3.1290e-01, -1.1969e+00,  ...,  2.7777e-01,\n",
       "          -6.7102e-01, -5.9202e-01],\n",
       "         [-4.7447e-01, -4.5183e-01, -9.0772e-01,  ...,  2.1734e+00,\n",
       "          -4.8658e-01,  2.2705e-01]],\n",
       "\n",
       "        [[-2.9965e-01, -8.8877e-01, -1.6747e+00,  ...,  6.2136e-01,\n",
       "          -5.4979e-01,  5.5384e-01],\n",
       "         [-6.6316e-01,  1.2205e+00, -3.7192e-01,  ...,  8.9994e-01,\n",
       "           7.3792e-01,  7.9133e-01],\n",
       "         [-1.0018e-01, -6.1276e-01, -2.6184e-01,  ..., -1.4406e-03,\n",
       "          -8.8704e-01, -1.2274e+00],\n",
       "         [-7.1537e-02,  9.8206e-01, -4.3184e-01,  ...,  2.0838e+00,\n",
       "          -1.9146e-01, -4.8069e-01]],\n",
       "\n",
       "        [[-2.2072e-01, -3.1922e-01, -1.3476e+00,  ...,  7.6861e-01,\n",
       "          -8.2595e-01,  5.4597e-01],\n",
       "         [-7.6867e-01,  2.0987e-01, -1.9201e-01,  ...,  1.7947e+00,\n",
       "          -4.2843e-01,  1.1282e+00],\n",
       "         [-4.0065e-01,  2.1140e-01, -9.2224e-01,  ...,  8.1774e-01,\n",
       "           6.8059e-02, -5.8147e-01],\n",
       "         [-2.9702e-01, -9.4825e-01, -4.7981e-01,  ...,  1.8568e+00,\n",
       "           7.4195e-01, -3.1569e-01]],\n",
       "\n",
       "        ...,\n",
       "\n",
       "        [[ 2.4722e-01,  2.3269e+00,  2.2969e-01,  ...,  1.5854e+00,\n",
       "          -1.0621e-01,  5.0759e-01],\n",
       "         [ 1.3100e-01,  1.7839e+00,  3.4815e-01,  ...,  1.4532e+00,\n",
       "          -2.3260e-02,  3.6351e-01],\n",
       "         [ 3.9722e-01,  2.4468e+00,  5.4650e-01,  ...,  1.4717e+00,\n",
       "           1.5531e-01,  4.1505e-01],\n",
       "         [ 6.6218e-01,  1.9471e+00,  2.6683e-01,  ...,  1.6836e+00,\n",
       "          -3.1041e-01,  6.0261e-01]],\n",
       "\n",
       "        [[ 3.8997e-01,  2.4550e+00,  2.5935e-01,  ...,  1.5842e+00,\n",
       "           4.5504e-03,  3.2620e-01],\n",
       "         [ 1.4089e-01,  1.8679e+00,  3.0246e-01,  ...,  1.5846e+00,\n",
       "           7.7038e-02,  5.0410e-01],\n",
       "         [ 4.0446e-01,  2.4166e+00,  6.1464e-01,  ...,  1.4557e+00,\n",
       "           1.5619e-01,  4.7941e-01],\n",
       "         [ 7.1300e-01,  1.9322e+00,  3.7437e-01,  ...,  1.7240e+00,\n",
       "          -3.4382e-01,  7.5074e-01]],\n",
       "\n",
       "        [[ 4.7071e-01,  2.3677e+00,  2.2103e-01,  ...,  1.5617e+00,\n",
       "          -7.1781e-02,  3.8574e-01],\n",
       "         [ 1.4658e-01,  1.9037e+00,  2.4922e-01,  ...,  1.7411e+00,\n",
       "           9.5555e-02,  4.7674e-01],\n",
       "         [ 3.7040e-01,  2.3933e+00,  6.5068e-01,  ...,  1.4557e+00,\n",
       "           1.5270e-01,  4.6237e-01],\n",
       "         [ 6.7172e-01,  1.9086e+00,  3.9036e-01,  ...,  1.8129e+00,\n",
       "          -3.6892e-01,  7.8547e-01]]], device='cuda:0'), tensor([[[ 0.1835, -0.7766, -1.5183,  ...,  0.7090, -0.6612,  0.6217],\n",
       "         [-1.0551, -1.2914, -0.9304,  ...,  1.3856, -0.4121,  0.1953],\n",
       "         [ 0.6081, -0.8602, -0.8043,  ..., -0.1365, -0.5214,  0.3711],\n",
       "         [-0.6619, -0.8738, -0.7904,  ...,  1.6141, -0.3722,  0.5179]],\n",
       "\n",
       "        [[ 0.1946, -0.7518, -1.1652,  ...,  0.4351, -0.5544,  0.0788],\n",
       "         [-0.7979,  0.7437, -0.0708,  ...,  0.7477,  0.3608,  0.7494],\n",
       "         [ 0.1303, -0.9749,  0.3357,  ..., -0.5105, -0.3477, -0.7068],\n",
       "         [-0.3033,  0.4465, -0.4601,  ...,  1.5177,  0.0382,  0.0144]],\n",
       "\n",
       "        [[ 0.3904, -0.4443, -0.6438,  ...,  0.5129, -0.9212,  0.0482],\n",
       "         [-0.6925,  0.0200, -0.1447,  ...,  1.5418, -0.1226,  1.1189],\n",
       "         [-0.4468, -0.3103, -0.5870,  ...,  0.4209,  0.1842, -0.5071],\n",
       "         [-0.4564, -1.3555, -0.4165,  ...,  1.5175,  1.0016,  0.0243]],\n",
       "\n",
       "        ...,\n",
       "\n",
       "        [[ 0.3072,  2.3585,  0.2794,  ...,  1.3862, -0.0593,  0.2474],\n",
       "         [ 0.1059,  1.7285,  0.3037,  ...,  1.4198,  0.1324,  0.1141],\n",
       "         [ 0.3194,  2.3507,  0.3715,  ...,  1.5477,  0.0850,  0.2217],\n",
       "         [ 0.5822,  1.9299,  0.1624,  ...,  1.4685, -0.0797,  0.3389]],\n",
       "\n",
       "        [[ 0.3453,  2.5199,  0.2761,  ...,  1.5046, -0.0181,  0.1635],\n",
       "         [ 0.0951,  1.7343,  0.3351,  ...,  1.5551,  0.2526,  0.2005],\n",
       "         [ 0.3510,  2.3181,  0.4462,  ...,  1.5295,  0.1064,  0.2503],\n",
       "         [ 0.6093,  1.8735,  0.2529,  ...,  1.4817, -0.0290,  0.3837]],\n",
       "\n",
       "        [[ 0.4180,  2.4097,  0.2443,  ...,  1.4512, -0.0910,  0.2036],\n",
       "         [ 0.0916,  1.7324,  0.3001,  ...,  1.6666,  0.3113,  0.1126],\n",
       "         [ 0.3351,  2.2940,  0.5036,  ...,  1.5371,  0.1187,  0.2244],\n",
       "         [ 0.5196,  1.8308,  0.2715,  ...,  1.6085,  0.0121,  0.3925]]],\n",
       "       device='cuda:0'), tensor([[[ 0.3066, -0.6151, -0.7493,  ...,  0.6243, -0.7871,  0.6089],\n",
       "         [-0.6472, -0.7829, -0.9010,  ...,  1.5255, -1.0629, -0.5858],\n",
       "         [ 0.6810, -0.9297, -1.3416,  ..., -0.4258, -0.7469,  0.5457],\n",
       "         [-0.3465, -1.2595, -0.3099,  ...,  1.5913, -0.8874,  0.2123]],\n",
       "\n",
       "        [[ 0.2404, -0.1437, -0.6574,  ...,  0.7121, -0.4158, -0.2601],\n",
       "         [-0.0936,  1.1622,  0.0266,  ...,  0.5109, -0.3988,  0.8122],\n",
       "         [-0.0316, -0.8261, -0.4099,  ..., -0.5774, -0.5610, -0.0036],\n",
       "         [ 0.1064,  0.0333,  0.0227,  ...,  1.4274, -0.6002,  0.0739]],\n",
       "\n",
       "        [[ 0.6923, -0.0072, -0.3196,  ...,  0.8748, -0.6401, -0.1331],\n",
       "         [-0.4163,  0.5766,  0.0583,  ...,  1.5304, -0.6474,  0.9261],\n",
       "         [-0.3913, -0.0631, -1.1292,  ...,  0.5269, -0.3304,  0.0174],\n",
       "         [-0.4165, -1.4668, -0.1513,  ...,  1.4160,  0.3175,  0.1341]],\n",
       "\n",
       "        ...,\n",
       "\n",
       "        [[ 0.4170,  2.0212,  0.9855,  ...,  0.6117, -0.7042, -0.4739],\n",
       "         [ 0.4453,  1.5087,  0.6711,  ...,  0.6604, -0.5761, -0.2549],\n",
       "         [ 0.4803,  2.2019,  1.1070,  ...,  1.0687, -0.7310, -0.4260],\n",
       "         [ 0.4469,  1.3545,  0.2777,  ...,  0.6033, -0.5218,  0.4834]],\n",
       "\n",
       "        [[ 0.4657,  2.1917,  1.0214,  ...,  0.7541, -0.7472, -0.6358],\n",
       "         [ 0.4595,  1.5052,  0.7498,  ...,  0.7580, -0.4265, -0.2290],\n",
       "         [ 0.5252,  2.2092,  1.1820,  ...,  1.0795, -0.7260, -0.4406],\n",
       "         [ 0.3859,  1.3293,  0.3305,  ...,  0.7283, -0.3965,  0.6147]],\n",
       "\n",
       "        [[ 0.5626,  2.0541,  0.9986,  ...,  0.6749, -0.7903, -0.5407],\n",
       "         [ 0.4805,  1.4984,  0.7342,  ...,  0.8156, -0.3775, -0.2756],\n",
       "         [ 0.5237,  2.2000,  1.2245,  ...,  1.0947, -0.7080, -0.4731],\n",
       "         [ 0.3005,  1.3170,  0.3342,  ...,  0.8547, -0.3594,  0.6618]]],\n",
       "       device='cuda:0'), tensor([[[-0.0478, -0.2250, -0.8185,  ...,  0.2221, -0.6003,  0.4394],\n",
       "         [-0.6892, -0.5330, -0.7409,  ...,  1.1415, -1.2045, -0.4975],\n",
       "         [ 0.3266, -0.7754, -0.9981,  ..., -0.5329, -0.6182,  0.3434],\n",
       "         [-0.4752, -0.9304,  0.0147,  ...,  1.3006, -0.6750, -0.2424]],\n",
       "\n",
       "        [[-0.0170,  0.1446, -0.7123,  ...,  0.1232, -0.4233, -0.2046],\n",
       "         [-0.0864,  1.0462,  0.1041,  ...,  0.2081, -0.5806,  0.5477],\n",
       "         [-0.0415, -0.5587,  0.1457,  ..., -0.5622, -0.4230, -0.2929],\n",
       "         [-0.3221,  0.0513,  0.1038,  ...,  1.1079, -0.2456, -0.2193]],\n",
       "\n",
       "        [[ 0.3129,  0.2843, -0.3867,  ...,  0.3465, -0.7015, -0.0292],\n",
       "         [-0.4391,  0.4472,  0.0993,  ...,  1.0998, -0.4967,  0.4328],\n",
       "         [-0.8965,  0.0394, -0.5779,  ...,  0.1347, -0.4537, -0.0058],\n",
       "         [-0.5856, -1.2367,  0.0855,  ...,  1.0258,  0.4106, -0.0974]],\n",
       "\n",
       "        ...,\n",
       "\n",
       "        [[ 0.1134,  1.4964,  0.8815,  ..., -0.1202, -0.5348, -0.5684],\n",
       "         [ 0.3808,  0.9929,  0.8188,  ..., -0.0365, -0.4974, -0.4002],\n",
       "         [ 0.0325,  1.6126,  0.9773,  ...,  0.4274, -0.4503, -0.6586],\n",
       "         [ 0.4495,  1.3411,  0.3940,  ...,  0.1004, -0.4798,  0.1697]],\n",
       "\n",
       "        [[ 0.0798,  1.6704,  0.8899,  ..., -0.0576, -0.6231, -0.6634],\n",
       "         [ 0.4007,  1.0287,  0.8466,  ...,  0.0033, -0.4023, -0.3982],\n",
       "         [ 0.0751,  1.6341,  1.0377,  ...,  0.4295, -0.4532, -0.7093],\n",
       "         [ 0.4330,  1.3651,  0.4550,  ...,  0.2695, -0.4279,  0.3213]],\n",
       "\n",
       "        [[ 0.1987,  1.5580,  0.8927,  ..., -0.0743, -0.6652, -0.5968],\n",
       "         [ 0.4110,  1.0512,  0.7983,  ...,  0.0478, -0.3620, -0.4364],\n",
       "         [ 0.0755,  1.6398,  1.0694,  ...,  0.4339, -0.4381, -0.7476],\n",
       "         [ 0.3887,  1.3628,  0.5022,  ...,  0.3993, -0.3938,  0.3665]]],\n",
       "       device='cuda:0'), tensor([[[ 0.0760,  0.3497, -1.1903,  ..., -0.0999, -0.0304,  0.2582],\n",
       "         [-1.4566, -0.5114, -0.7515,  ...,  1.5155, -1.3114, -0.3169],\n",
       "         [ 0.6829, -1.1933, -1.1152,  ..., -0.6683, -0.5476,  0.3405],\n",
       "         [-0.1069, -0.8842,  0.0836,  ...,  1.2808, -0.8615, -0.0040]],\n",
       "\n",
       "        [[-0.3334,  0.3241, -0.7929,  ...,  0.1796,  0.4627, -0.1391],\n",
       "         [-0.7097,  1.0812,  0.0523,  ...,  0.1909, -0.4678,  0.9042],\n",
       "         [ 0.5815, -1.1437,  0.2248,  ..., -0.5576, -0.4528, -0.3952],\n",
       "         [-0.3233,  0.0527, -0.4104,  ...,  0.9494, -0.0598, -0.0519]],\n",
       "\n",
       "        [[-0.1096,  0.4545, -0.8438,  ...,  0.3704, -0.2089, -0.1735],\n",
       "         [-0.7368,  0.5898,  0.1245,  ...,  1.3445, -0.5748,  0.5059],\n",
       "         [-0.9575, -0.1903, -0.3051,  ..., -0.1504, -0.6463, -0.1520],\n",
       "         [-0.3220, -1.0981, -0.2126,  ...,  0.7134,  0.6433, -0.0492]],\n",
       "\n",
       "        ...,\n",
       "\n",
       "        [[-0.4456,  1.4783,  1.0280,  ..., -0.0832, -0.4237, -0.3482],\n",
       "         [-0.0547,  0.9651,  1.1690,  ...,  0.0649, -0.1425, -0.1348],\n",
       "         [-0.5644,  1.6117,  0.9415,  ...,  0.4006, -0.0324, -0.7995],\n",
       "         [ 0.0521,  1.8352,  0.6784,  ...,  0.1469, -0.2683,  0.4918]],\n",
       "\n",
       "        [[-0.6036,  1.7275,  1.0210,  ..., -0.1155, -0.4249, -0.4748],\n",
       "         [-0.0220,  1.0009,  1.1732,  ...,  0.0706, -0.0453, -0.1467],\n",
       "         [-0.5164,  1.6388,  0.9643,  ...,  0.3798, -0.0527, -0.8990],\n",
       "         [ 0.1733,  1.8925,  0.7140,  ...,  0.3769, -0.2672,  0.6827]],\n",
       "\n",
       "        [[-0.4522,  1.6096,  1.0955,  ..., -0.1316, -0.4816, -0.3811],\n",
       "         [ 0.0204,  1.0153,  1.1169,  ...,  0.0982, -0.0019, -0.1636],\n",
       "         [-0.5141,  1.6492,  0.9759,  ...,  0.3761, -0.0387, -0.9631],\n",
       "         [ 0.1811,  1.8818,  0.7527,  ...,  0.5575, -0.2375,  0.7465]]],\n",
       "       device='cuda:0'), tensor([[[-0.2754, -0.0188, -0.3063,  ...,  0.3651,  0.2257,  0.1859],\n",
       "         [-1.1203, -0.4315, -0.3011,  ...,  1.4782, -0.8850, -0.0889],\n",
       "         [ 0.1291, -0.7327, -0.2094,  ..., -0.3349, -0.3416,  0.3831],\n",
       "         [-0.4326, -0.8535, -0.4793,  ...,  1.1470, -0.7985,  0.4253]],\n",
       "\n",
       "        [[-0.7136, -0.0034, -0.3609,  ...,  0.2340,  0.5124,  0.2691],\n",
       "         [-0.7677,  1.1528, -0.1664,  ...,  0.3225, -0.4544,  1.2087],\n",
       "         [ 0.0997, -0.7714,  0.2592,  ..., -0.3209, -0.3961, -0.0388],\n",
       "         [-0.8645,  0.0926, -0.7821,  ...,  0.7837,  0.0101,  0.6669]],\n",
       "\n",
       "        [[-0.6104,  0.1080, -0.3499,  ...,  0.4239, -0.1655,  0.5007],\n",
       "         [-0.6552,  0.5404, -0.0642,  ...,  0.8656, -0.3566,  0.3148],\n",
       "         [-0.6119, -0.0647, -0.1792,  ...,  0.0182, -0.4769,  0.4646],\n",
       "         [-0.8481, -1.2812, -0.5066,  ...,  0.6989,  0.2710,  0.2617]],\n",
       "\n",
       "        ...,\n",
       "\n",
       "        [[-0.1649,  0.8061,  0.6658,  ..., -0.2721, -0.2808, -0.2715],\n",
       "         [ 0.2542,  0.5724,  0.6590,  ..., -0.0542, -0.1213, -0.0305],\n",
       "         [-0.2354,  0.8573,  0.5872,  ..., -0.0821, -0.0070, -0.5155],\n",
       "         [ 0.1927,  1.0593,  0.3853,  ..., -0.2264, -0.2340,  0.2663]],\n",
       "\n",
       "        [[-0.3070,  0.9447,  0.6571,  ..., -0.2905, -0.3034, -0.3461],\n",
       "         [ 0.2398,  0.6344,  0.6750,  ..., -0.0846, -0.0517, -0.0514],\n",
       "         [-0.2176,  0.8718,  0.6177,  ..., -0.0893, -0.0187, -0.5903],\n",
       "         [ 0.2104,  1.1072,  0.4223,  ..., -0.0760, -0.2516,  0.3694]],\n",
       "\n",
       "        [[-0.2054,  0.8734,  0.7151,  ..., -0.2856, -0.3149, -0.3014],\n",
       "         [ 0.2346,  0.6678,  0.6608,  ..., -0.1078, -0.0122, -0.0673],\n",
       "         [-0.2207,  0.8818,  0.6204,  ..., -0.0937, -0.0140, -0.6362],\n",
       "         [ 0.1944,  1.1048,  0.4604,  ...,  0.0393, -0.2262,  0.4196]]],\n",
       "       device='cuda:0')), hidden_states=None, attentions=None)"
      ]
     },
     "execution_count": 38,
     "metadata": {},
     "output_type": "execute_result"
    }
   ],
   "source": [
    "outputs = model(input_ids.reshape(4,512), token_type_ids=None, attention_mask=attention_mask, labels=targets)\n",
    "outputs"
   ]
  },
  {
   "cell_type": "code",
   "execution_count": null,
   "metadata": {
    "colab": {
     "base_uri": "https://localhost:8080/"
    },
    "id": "zbyJNtqVkg4Y",
    "outputId": "a946de3f-58da-4790-aac2-a3749586185c"
   },
   "outputs": [
    {
     "data": {
      "text/plain": [
       "torch.Tensor"
      ]
     },
     "execution_count": 39,
     "metadata": {},
     "output_type": "execute_result"
    }
   ],
   "source": [
    "type(outputs[0])"
   ]
  },
  {
   "cell_type": "markdown",
   "metadata": {
    "id": "eg44cHnNLd3J"
   },
   "source": [
    "### training step function"
   ]
  },
  {
   "cell_type": "code",
   "execution_count": null,
   "metadata": {
    "id": "tPnWttRNMArt"
   },
   "outputs": [],
   "source": [
    "from sklearn import metrics\n",
    "def train_epoch(model, data_loader, optimizer, device, scheduler, n_examples):\n",
    "    model = model.train()\n",
    "    losses = []\n",
    "    acc = 0\n",
    "    counter = 0\n",
    "  \n",
    "    for d in data_loader:\n",
    "        input_ids = d[\"input_ids\"].reshape(4,512).to(device)\n",
    "        attention_mask = d[\"attention_mask\"].to(device)\n",
    "        targets = d[\"targets\"].to(device)\n",
    "        \n",
    "        outputs = model(input_ids=input_ids, token_type_ids=None, attention_mask=attention_mask, labels = targets)\n",
    "        loss = outputs[0]\n",
    "        logits = outputs[1]\n",
    "\n",
    "        # preds = preds.cpu().detach().numpy()\n",
    "        _, prediction = torch.max(outputs[1], dim=1)\n",
    "        targets = targets.cpu().detach().numpy()\n",
    "        prediction = prediction.cpu().detach().numpy()\n",
    "        accuracy = metrics.accuracy_score(targets, prediction)\n",
    "\n",
    "        acc += accuracy\n",
    "        losses.append(loss.item())\n",
    "        \n",
    "        loss.backward()\n",
    "\n",
    "        nn.utils.clip_grad_norm_(model.parameters(), max_norm=1.0)\n",
    "        optimizer.step()\n",
    "        scheduler.step()\n",
    "        optimizer.zero_grad()\n",
    "        counter = counter + 1\n",
    "\n",
    "    return acc / counter, np.mean(losses)"
   ]
  },
  {
   "cell_type": "markdown",
   "metadata": {
    "id": "4N2ktqT8LoDS"
   },
   "source": [
    "### evaluation function\n"
   ]
  },
  {
   "cell_type": "code",
   "execution_count": null,
   "metadata": {
    "id": "V_ZyoJ4qb-CB"
   },
   "outputs": [],
   "source": [
    "def eval_model(model, data_loader, device, n_examples):\n",
    "    model = model.eval()\n",
    "    losses = []\n",
    "    acc = 0\n",
    "    counter = 0\n",
    "  \n",
    "    with torch.no_grad():\n",
    "        for d in data_loader:\n",
    "            input_ids = d[\"input_ids\"].reshape(4,512).to(device)\n",
    "            attention_mask = d[\"attention_mask\"].to(device)\n",
    "            targets = d[\"targets\"].to(device)\n",
    "            \n",
    "            outputs = model(input_ids=input_ids, token_type_ids=None, attention_mask=attention_mask, labels = targets)\n",
    "            loss = outputs[0]\n",
    "            logits = outputs[1]\n",
    "\n",
    "            _, prediction = torch.max(outputs[1], dim=1)\n",
    "            targets = targets.cpu().detach().numpy()\n",
    "            prediction = prediction.cpu().detach().numpy()\n",
    "            accuracy = metrics.accuracy_score(targets, prediction)\n",
    "\n",
    "            acc += accuracy\n",
    "            losses.append(loss.item())\n",
    "            counter += 1\n",
    "\n",
    "    return acc / counter, np.mean(losses)"
   ]
  },
  {
   "cell_type": "markdown",
   "metadata": {
    "id": "9AG1TE43LvkX"
   },
   "source": [
    "### Fine-tuning"
   ]
  },
  {
   "cell_type": "code",
   "execution_count": null,
   "metadata": {
    "colab": {
     "base_uri": "https://localhost:8080/"
    },
    "id": "eNSQSFkScp6f",
    "outputId": "0140ce59-ba67-40c6-f354-6ffbf1f773d4"
   },
   "outputs": [
    {
     "name": "stdout",
     "output_type": "stream",
     "text": [
      "Epoch 1/3\n",
      "----------\n"
     ]
    }
   ],
   "source": [
    "%%time\n",
    "history = defaultdict(list)\n",
    "best_accuracy = 0\n",
    "\n",
    "for epoch in range(EPOCHS):\n",
    "    print(f'Epoch {epoch + 1}/{EPOCHS}')\n",
    "    print('-' * 10)\n",
    "\n",
    "    train_acc, train_loss = train_epoch(\n",
    "        model,\n",
    "        train_data_loader,     \n",
    "        optimizer, \n",
    "        device, \n",
    "        scheduler, \n",
    "        len(df_train)\n",
    "    )\n",
    "\n",
    "    print(f'Train loss {train_loss} Train accuracy {train_acc}')\n",
    "\n",
    "    val_acc, val_loss = eval_model(\n",
    "        model,\n",
    "        val_data_loader, \n",
    "        device, \n",
    "        len(df_val)\n",
    "    )\n",
    "\n",
    "    print(f'Val loss {val_loss} Val accuracy {val_acc}')\n",
    "    print()\n",
    "\n",
    "    history['train_acc'].append(train_acc)\n",
    "    history['train_loss'].append(train_loss)\n",
    "    history['val_acc'].append(val_acc)\n",
    "    history['val_loss'].append(val_loss)\n",
    "\n",
    "    if val_acc > best_accuracy:\n",
    "        torch.save(model.state_dict(), '/content/drive/My Drive/NLP/Sentiment Analysis Series/models/xlnet_model.bin')\n",
    "        best_accuracy = val_acc"
   ]
  },
  {
   "cell_type": "markdown",
   "metadata": {
    "id": "qe08GjtNL-Sh"
   },
   "source": [
    "### Evaluation of the fine-tuned model"
   ]
  },
  {
   "cell_type": "code",
   "execution_count": null,
   "metadata": {
    "colab": {
     "base_uri": "https://localhost:8080/",
     "height": 33
    },
    "id": "XqtQkz2yrZE3",
    "outputId": "b57d0042-0a00-4ae0-e177-3ebc889e29f8"
   },
   "outputs": [
    {
     "data": {
      "text/plain": [
       "<All keys matched successfully>"
      ]
     },
     "execution_count": 46,
     "metadata": {
      "tags": []
     },
     "output_type": "execute_result"
    }
   ],
   "source": [
    "model.load_state_dict(torch.load('/content/drive/My Drive/NLP/Sentiment Analysis Series/models/xlnet_model.bin'))"
   ]
  },
  {
   "cell_type": "code",
   "execution_count": null,
   "metadata": {
    "id": "26k0PMpdy1QT"
   },
   "outputs": [],
   "source": [
    "model = model.to(device)"
   ]
  },
  {
   "cell_type": "code",
   "execution_count": null,
   "metadata": {
    "colab": {
     "base_uri": "https://localhost:8080/",
     "height": 50
    },
    "id": "QHINzx6ezSD0",
    "outputId": "48dd67b6-d26d-45cf-aeff-4c7eda62e5e5"
   },
   "outputs": [
    {
     "name": "stdout",
     "output_type": "stream",
     "text": [
      "Test Accuracy : 0.956\n",
      "Test Loss : 0.2740427735249201\n"
     ]
    }
   ],
   "source": [
    "test_acc, test_loss = eval_model(\n",
    "  model,\n",
    "  test_data_loader,\n",
    "  device,\n",
    "  len(df_test)\n",
    ")\n",
    "\n",
    "print('Test Accuracy :', test_acc)\n",
    "print('Test Loss :', test_loss)"
   ]
  },
  {
   "cell_type": "code",
   "execution_count": null,
   "metadata": {
    "id": "NBWsLq4yzubR"
   },
   "outputs": [],
   "source": [
    "def get_predictions(model, data_loader):\n",
    "    model = model.eval()\n",
    "    \n",
    "    review_texts = []\n",
    "    predictions = []\n",
    "    prediction_probs = []\n",
    "    real_values = []\n",
    "\n",
    "    with torch.no_grad():\n",
    "        for d in data_loader:\n",
    "\n",
    "            texts = d[\"review_text\"]\n",
    "            input_ids = d[\"input_ids\"].reshape(4,512).to(device)\n",
    "            attention_mask = d[\"attention_mask\"].to(device)\n",
    "            targets = d[\"targets\"].to(device)\n",
    "            \n",
    "            outputs = model(input_ids=input_ids, token_type_ids=None, attention_mask=attention_mask, labels = targets)\n",
    "\n",
    "            loss = outputs[0]\n",
    "            logits = outputs[1]\n",
    "            \n",
    "            _, preds = torch.max(outputs[1], dim=1)\n",
    "\n",
    "            probs = F.softmax(outputs[1], dim=1)\n",
    "\n",
    "            review_texts.extend(texts)\n",
    "            predictions.extend(preds)\n",
    "            prediction_probs.extend(probs)\n",
    "            real_values.extend(targets)\n",
    "\n",
    "    predictions = torch.stack(predictions).cpu()\n",
    "    prediction_probs = torch.stack(prediction_probs).cpu()\n",
    "    real_values = torch.stack(real_values).cpu()\n",
    "    return review_texts, predictions, prediction_probs, real_values"
   ]
  },
  {
   "cell_type": "code",
   "execution_count": null,
   "metadata": {
    "id": "hwCQaTFH5KWy"
   },
   "outputs": [],
   "source": [
    "y_review_texts, y_pred, y_pred_probs, y_test = get_predictions(\n",
    "  model,\n",
    "  test_data_loader\n",
    ")"
   ]
  },
  {
   "cell_type": "code",
   "execution_count": null,
   "metadata": {
    "colab": {
     "base_uri": "https://localhost:8080/",
     "height": 167
    },
    "id": "wviSSrIP5Pvl",
    "outputId": "87c89f11-e95b-4fdd-adf7-5601732d5080"
   },
   "outputs": [
    {
     "name": "stdout",
     "output_type": "stream",
     "text": [
      "              precision    recall  f1-score   support\n",
      "\n",
      "    negative       0.95      0.96      0.96      2976\n",
      "    positive       0.96      0.96      0.96      3024\n",
      "\n",
      "    accuracy                           0.96      6000\n",
      "   macro avg       0.96      0.96      0.96      6000\n",
      "weighted avg       0.96      0.96      0.96      6000\n",
      "\n"
     ]
    }
   ],
   "source": [
    "print(classification_report(y_test, y_pred, target_names=class_names))"
   ]
  }
 ],
 "metadata": {
  "accelerator": "GPU",
  "colab": {
   "provenance": []
  },
  "kernelspec": {
   "display_name": "Python 3 (ipykernel)",
   "language": "python",
   "name": "python3"
  },
  "language_info": {
   "codemirror_mode": {
    "name": "ipython",
    "version": 3
   },
   "file_extension": ".py",
   "mimetype": "text/x-python",
   "name": "python",
   "nbconvert_exporter": "python",
   "pygments_lexer": "ipython3",
   "version": "3.8.13"
  },
  "widgets": {
   "application/vnd.jupyter.widget-state+json": {
    "07df188c5af94ac1ace4f148b998ed6e": {
     "model_module": "@jupyter-widgets/base",
     "model_module_version": "1.2.0",
     "model_name": "LayoutModel",
     "state": {
      "_model_module": "@jupyter-widgets/base",
      "_model_module_version": "1.2.0",
      "_model_name": "LayoutModel",
      "_view_count": null,
      "_view_module": "@jupyter-widgets/base",
      "_view_module_version": "1.2.0",
      "_view_name": "LayoutView",
      "align_content": null,
      "align_items": null,
      "align_self": null,
      "border": null,
      "bottom": null,
      "display": null,
      "flex": null,
      "flex_flow": null,
      "grid_area": null,
      "grid_auto_columns": null,
      "grid_auto_flow": null,
      "grid_auto_rows": null,
      "grid_column": null,
      "grid_gap": null,
      "grid_row": null,
      "grid_template_areas": null,
      "grid_template_columns": null,
      "grid_template_rows": null,
      "height": null,
      "justify_content": null,
      "justify_items": null,
      "left": null,
      "margin": null,
      "max_height": null,
      "max_width": null,
      "min_height": null,
      "min_width": null,
      "object_fit": null,
      "object_position": null,
      "order": null,
      "overflow": null,
      "overflow_x": null,
      "overflow_y": null,
      "padding": null,
      "right": null,
      "top": null,
      "visibility": null,
      "width": null
     }
    },
    "0f3441e1c7754f6684f5a6eb5a7d97ed": {
     "model_module": "@jupyter-widgets/controls",
     "model_module_version": "1.5.0",
     "model_name": "FloatProgressModel",
     "state": {
      "_dom_classes": [],
      "_model_module": "@jupyter-widgets/controls",
      "_model_module_version": "1.5.0",
      "_model_name": "FloatProgressModel",
      "_view_count": null,
      "_view_module": "@jupyter-widgets/controls",
      "_view_module_version": "1.5.0",
      "_view_name": "ProgressView",
      "bar_style": "success",
      "description": "",
      "description_tooltip": null,
      "layout": "IPY_MODEL_07df188c5af94ac1ace4f148b998ed6e",
      "max": 467042463,
      "min": 0,
      "orientation": "horizontal",
      "style": "IPY_MODEL_da4f8537dccd4e2c9596a3c35c159cec",
      "value": 467042463
     }
    },
    "178616c6427348c9be59ea96ed126ca5": {
     "model_module": "@jupyter-widgets/base",
     "model_module_version": "1.2.0",
     "model_name": "LayoutModel",
     "state": {
      "_model_module": "@jupyter-widgets/base",
      "_model_module_version": "1.2.0",
      "_model_name": "LayoutModel",
      "_view_count": null,
      "_view_module": "@jupyter-widgets/base",
      "_view_module_version": "1.2.0",
      "_view_name": "LayoutView",
      "align_content": null,
      "align_items": null,
      "align_self": null,
      "border": null,
      "bottom": null,
      "display": null,
      "flex": null,
      "flex_flow": null,
      "grid_area": null,
      "grid_auto_columns": null,
      "grid_auto_flow": null,
      "grid_auto_rows": null,
      "grid_column": null,
      "grid_gap": null,
      "grid_row": null,
      "grid_template_areas": null,
      "grid_template_columns": null,
      "grid_template_rows": null,
      "height": null,
      "justify_content": null,
      "justify_items": null,
      "left": null,
      "margin": null,
      "max_height": null,
      "max_width": null,
      "min_height": null,
      "min_width": null,
      "object_fit": null,
      "object_position": null,
      "order": null,
      "overflow": null,
      "overflow_x": null,
      "overflow_y": null,
      "padding": null,
      "right": null,
      "top": null,
      "visibility": null,
      "width": null
     }
    },
    "200ffd875d8045d4bd4a9f67bedae31b": {
     "model_module": "@jupyter-widgets/base",
     "model_module_version": "1.2.0",
     "model_name": "LayoutModel",
     "state": {
      "_model_module": "@jupyter-widgets/base",
      "_model_module_version": "1.2.0",
      "_model_name": "LayoutModel",
      "_view_count": null,
      "_view_module": "@jupyter-widgets/base",
      "_view_module_version": "1.2.0",
      "_view_name": "LayoutView",
      "align_content": null,
      "align_items": null,
      "align_self": null,
      "border": null,
      "bottom": null,
      "display": null,
      "flex": null,
      "flex_flow": null,
      "grid_area": null,
      "grid_auto_columns": null,
      "grid_auto_flow": null,
      "grid_auto_rows": null,
      "grid_column": null,
      "grid_gap": null,
      "grid_row": null,
      "grid_template_areas": null,
      "grid_template_columns": null,
      "grid_template_rows": null,
      "height": null,
      "justify_content": null,
      "justify_items": null,
      "left": null,
      "margin": null,
      "max_height": null,
      "max_width": null,
      "min_height": null,
      "min_width": null,
      "object_fit": null,
      "object_position": null,
      "order": null,
      "overflow": null,
      "overflow_x": null,
      "overflow_y": null,
      "padding": null,
      "right": null,
      "top": null,
      "visibility": null,
      "width": null
     }
    },
    "245d232c375d4ce98d9feb6f971d6d89": {
     "model_module": "@jupyter-widgets/controls",
     "model_module_version": "1.5.0",
     "model_name": "DescriptionStyleModel",
     "state": {
      "_model_module": "@jupyter-widgets/controls",
      "_model_module_version": "1.5.0",
      "_model_name": "DescriptionStyleModel",
      "_view_count": null,
      "_view_module": "@jupyter-widgets/base",
      "_view_module_version": "1.2.0",
      "_view_name": "StyleView",
      "description_width": ""
     }
    },
    "25fe7afd38984229b9e79315076200e3": {
     "model_module": "@jupyter-widgets/controls",
     "model_module_version": "1.5.0",
     "model_name": "HTMLModel",
     "state": {
      "_dom_classes": [],
      "_model_module": "@jupyter-widgets/controls",
      "_model_module_version": "1.5.0",
      "_model_name": "HTMLModel",
      "_view_count": null,
      "_view_module": "@jupyter-widgets/controls",
      "_view_module_version": "1.5.0",
      "_view_name": "HTMLView",
      "description": "",
      "description_tooltip": null,
      "layout": "IPY_MODEL_f0e441ca549047c5bc2c64420ca13b67",
      "placeholder": "​",
      "style": "IPY_MODEL_b9330c3888fa4ac69431ae4d976e6cab",
      "value": " 467M/467M [00:01&lt;00:00, 330MB/s]"
     }
    },
    "2cc75b66cbc642dd9cfc46a1fdd7be35": {
     "model_module": "@jupyter-widgets/controls",
     "model_module_version": "1.5.0",
     "model_name": "HTMLModel",
     "state": {
      "_dom_classes": [],
      "_model_module": "@jupyter-widgets/controls",
      "_model_module_version": "1.5.0",
      "_model_name": "HTMLModel",
      "_view_count": null,
      "_view_module": "@jupyter-widgets/controls",
      "_view_module_version": "1.5.0",
      "_view_name": "HTMLView",
      "description": "",
      "description_tooltip": null,
      "layout": "IPY_MODEL_68f4da7d0c0641d49d79ed9e4c31c4fb",
      "placeholder": "​",
      "style": "IPY_MODEL_d87588f48b8c457faa3d7b2e2b83c3cf",
      "value": "Downloading (…)ve/main/spiece.model: 100%"
     }
    },
    "3683b7bb22fc46e28231fa97a9fbc93f": {
     "model_module": "@jupyter-widgets/base",
     "model_module_version": "1.2.0",
     "model_name": "LayoutModel",
     "state": {
      "_model_module": "@jupyter-widgets/base",
      "_model_module_version": "1.2.0",
      "_model_name": "LayoutModel",
      "_view_count": null,
      "_view_module": "@jupyter-widgets/base",
      "_view_module_version": "1.2.0",
      "_view_name": "LayoutView",
      "align_content": null,
      "align_items": null,
      "align_self": null,
      "border": null,
      "bottom": null,
      "display": null,
      "flex": null,
      "flex_flow": null,
      "grid_area": null,
      "grid_auto_columns": null,
      "grid_auto_flow": null,
      "grid_auto_rows": null,
      "grid_column": null,
      "grid_gap": null,
      "grid_row": null,
      "grid_template_areas": null,
      "grid_template_columns": null,
      "grid_template_rows": null,
      "height": null,
      "justify_content": null,
      "justify_items": null,
      "left": null,
      "margin": null,
      "max_height": null,
      "max_width": null,
      "min_height": null,
      "min_width": null,
      "object_fit": null,
      "object_position": null,
      "order": null,
      "overflow": null,
      "overflow_x": null,
      "overflow_y": null,
      "padding": null,
      "right": null,
      "top": null,
      "visibility": null,
      "width": null
     }
    },
    "3765f472292743268ef8eaade44320e2": {
     "model_module": "@jupyter-widgets/base",
     "model_module_version": "1.2.0",
     "model_name": "LayoutModel",
     "state": {
      "_model_module": "@jupyter-widgets/base",
      "_model_module_version": "1.2.0",
      "_model_name": "LayoutModel",
      "_view_count": null,
      "_view_module": "@jupyter-widgets/base",
      "_view_module_version": "1.2.0",
      "_view_name": "LayoutView",
      "align_content": null,
      "align_items": null,
      "align_self": null,
      "border": null,
      "bottom": null,
      "display": null,
      "flex": null,
      "flex_flow": null,
      "grid_area": null,
      "grid_auto_columns": null,
      "grid_auto_flow": null,
      "grid_auto_rows": null,
      "grid_column": null,
      "grid_gap": null,
      "grid_row": null,
      "grid_template_areas": null,
      "grid_template_columns": null,
      "grid_template_rows": null,
      "height": null,
      "justify_content": null,
      "justify_items": null,
      "left": null,
      "margin": null,
      "max_height": null,
      "max_width": null,
      "min_height": null,
      "min_width": null,
      "object_fit": null,
      "object_position": null,
      "order": null,
      "overflow": null,
      "overflow_x": null,
      "overflow_y": null,
      "padding": null,
      "right": null,
      "top": null,
      "visibility": null,
      "width": null
     }
    },
    "579da271049c40cd8a82e1d682799716": {
     "model_module": "@jupyter-widgets/controls",
     "model_module_version": "1.5.0",
     "model_name": "HBoxModel",
     "state": {
      "_dom_classes": [],
      "_model_module": "@jupyter-widgets/controls",
      "_model_module_version": "1.5.0",
      "_model_name": "HBoxModel",
      "_view_count": null,
      "_view_module": "@jupyter-widgets/controls",
      "_view_module_version": "1.5.0",
      "_view_name": "HBoxView",
      "box_style": "",
      "children": [
       "IPY_MODEL_628b8b1df7564777948c14ae80a85b1a",
       "IPY_MODEL_85bc10825ba34e50a9c5cb091637ac70",
       "IPY_MODEL_bb35d785e8e544148e4c2618dc43c659"
      ],
      "layout": "IPY_MODEL_aab3f2b8e5d441ad9782576dc410b24c"
     }
    },
    "58f1f389e02b451b9de95d1f288f8e74": {
     "model_module": "@jupyter-widgets/controls",
     "model_module_version": "1.5.0",
     "model_name": "HBoxModel",
     "state": {
      "_dom_classes": [],
      "_model_module": "@jupyter-widgets/controls",
      "_model_module_version": "1.5.0",
      "_model_name": "HBoxModel",
      "_view_count": null,
      "_view_module": "@jupyter-widgets/controls",
      "_view_module_version": "1.5.0",
      "_view_name": "HBoxView",
      "box_style": "",
      "children": [
       "IPY_MODEL_a4da321b6d91403bbb4b10473948443b",
       "IPY_MODEL_0f3441e1c7754f6684f5a6eb5a7d97ed",
       "IPY_MODEL_25fe7afd38984229b9e79315076200e3"
      ],
      "layout": "IPY_MODEL_a2afd57f164d467bab52b57399236835"
     }
    },
    "628b8b1df7564777948c14ae80a85b1a": {
     "model_module": "@jupyter-widgets/controls",
     "model_module_version": "1.5.0",
     "model_name": "HTMLModel",
     "state": {
      "_dom_classes": [],
      "_model_module": "@jupyter-widgets/controls",
      "_model_module_version": "1.5.0",
      "_model_name": "HTMLModel",
      "_view_count": null,
      "_view_module": "@jupyter-widgets/controls",
      "_view_module_version": "1.5.0",
      "_view_name": "HTMLView",
      "description": "",
      "description_tooltip": null,
      "layout": "IPY_MODEL_9832a217d4e544059610e621aaf4a3ee",
      "placeholder": "​",
      "style": "IPY_MODEL_245d232c375d4ce98d9feb6f971d6d89",
      "value": "Downloading (…)lve/main/config.json: 100%"
     }
    },
    "68f4da7d0c0641d49d79ed9e4c31c4fb": {
     "model_module": "@jupyter-widgets/base",
     "model_module_version": "1.2.0",
     "model_name": "LayoutModel",
     "state": {
      "_model_module": "@jupyter-widgets/base",
      "_model_module_version": "1.2.0",
      "_model_name": "LayoutModel",
      "_view_count": null,
      "_view_module": "@jupyter-widgets/base",
      "_view_module_version": "1.2.0",
      "_view_name": "LayoutView",
      "align_content": null,
      "align_items": null,
      "align_self": null,
      "border": null,
      "bottom": null,
      "display": null,
      "flex": null,
      "flex_flow": null,
      "grid_area": null,
      "grid_auto_columns": null,
      "grid_auto_flow": null,
      "grid_auto_rows": null,
      "grid_column": null,
      "grid_gap": null,
      "grid_row": null,
      "grid_template_areas": null,
      "grid_template_columns": null,
      "grid_template_rows": null,
      "height": null,
      "justify_content": null,
      "justify_items": null,
      "left": null,
      "margin": null,
      "max_height": null,
      "max_width": null,
      "min_height": null,
      "min_width": null,
      "object_fit": null,
      "object_position": null,
      "order": null,
      "overflow": null,
      "overflow_x": null,
      "overflow_y": null,
      "padding": null,
      "right": null,
      "top": null,
      "visibility": null,
      "width": null
     }
    },
    "730ae158bf514284aa4b10d50df117ef": {
     "model_module": "@jupyter-widgets/controls",
     "model_module_version": "1.5.0",
     "model_name": "HBoxModel",
     "state": {
      "_dom_classes": [],
      "_model_module": "@jupyter-widgets/controls",
      "_model_module_version": "1.5.0",
      "_model_name": "HBoxModel",
      "_view_count": null,
      "_view_module": "@jupyter-widgets/controls",
      "_view_module_version": "1.5.0",
      "_view_name": "HBoxView",
      "box_style": "",
      "children": [
       "IPY_MODEL_2cc75b66cbc642dd9cfc46a1fdd7be35",
       "IPY_MODEL_f40e7bb51c8a46c199e4d245279592ee",
       "IPY_MODEL_e28ef6a4a1b64ee98ac58265576bbab5"
      ],
      "layout": "IPY_MODEL_200ffd875d8045d4bd4a9f67bedae31b"
     }
    },
    "7aae7414b9754ba18b9597f5f596d789": {
     "model_module": "@jupyter-widgets/controls",
     "model_module_version": "1.5.0",
     "model_name": "ProgressStyleModel",
     "state": {
      "_model_module": "@jupyter-widgets/controls",
      "_model_module_version": "1.5.0",
      "_model_name": "ProgressStyleModel",
      "_view_count": null,
      "_view_module": "@jupyter-widgets/base",
      "_view_module_version": "1.2.0",
      "_view_name": "StyleView",
      "bar_color": null,
      "description_width": ""
     }
    },
    "85bc10825ba34e50a9c5cb091637ac70": {
     "model_module": "@jupyter-widgets/controls",
     "model_module_version": "1.5.0",
     "model_name": "FloatProgressModel",
     "state": {
      "_dom_classes": [],
      "_model_module": "@jupyter-widgets/controls",
      "_model_module_version": "1.5.0",
      "_model_name": "FloatProgressModel",
      "_view_count": null,
      "_view_module": "@jupyter-widgets/controls",
      "_view_module_version": "1.5.0",
      "_view_name": "ProgressView",
      "bar_style": "success",
      "description": "",
      "description_tooltip": null,
      "layout": "IPY_MODEL_a75decc64a7243059e7f39689f50aac4",
      "max": 760,
      "min": 0,
      "orientation": "horizontal",
      "style": "IPY_MODEL_947911871ded4e0ab679ddc8d415d859",
      "value": 760
     }
    },
    "947911871ded4e0ab679ddc8d415d859": {
     "model_module": "@jupyter-widgets/controls",
     "model_module_version": "1.5.0",
     "model_name": "ProgressStyleModel",
     "state": {
      "_model_module": "@jupyter-widgets/controls",
      "_model_module_version": "1.5.0",
      "_model_name": "ProgressStyleModel",
      "_view_count": null,
      "_view_module": "@jupyter-widgets/base",
      "_view_module_version": "1.2.0",
      "_view_name": "StyleView",
      "bar_color": null,
      "description_width": ""
     }
    },
    "9832a217d4e544059610e621aaf4a3ee": {
     "model_module": "@jupyter-widgets/base",
     "model_module_version": "1.2.0",
     "model_name": "LayoutModel",
     "state": {
      "_model_module": "@jupyter-widgets/base",
      "_model_module_version": "1.2.0",
      "_model_name": "LayoutModel",
      "_view_count": null,
      "_view_module": "@jupyter-widgets/base",
      "_view_module_version": "1.2.0",
      "_view_name": "LayoutView",
      "align_content": null,
      "align_items": null,
      "align_self": null,
      "border": null,
      "bottom": null,
      "display": null,
      "flex": null,
      "flex_flow": null,
      "grid_area": null,
      "grid_auto_columns": null,
      "grid_auto_flow": null,
      "grid_auto_rows": null,
      "grid_column": null,
      "grid_gap": null,
      "grid_row": null,
      "grid_template_areas": null,
      "grid_template_columns": null,
      "grid_template_rows": null,
      "height": null,
      "justify_content": null,
      "justify_items": null,
      "left": null,
      "margin": null,
      "max_height": null,
      "max_width": null,
      "min_height": null,
      "min_width": null,
      "object_fit": null,
      "object_position": null,
      "order": null,
      "overflow": null,
      "overflow_x": null,
      "overflow_y": null,
      "padding": null,
      "right": null,
      "top": null,
      "visibility": null,
      "width": null
     }
    },
    "a2afd57f164d467bab52b57399236835": {
     "model_module": "@jupyter-widgets/base",
     "model_module_version": "1.2.0",
     "model_name": "LayoutModel",
     "state": {
      "_model_module": "@jupyter-widgets/base",
      "_model_module_version": "1.2.0",
      "_model_name": "LayoutModel",
      "_view_count": null,
      "_view_module": "@jupyter-widgets/base",
      "_view_module_version": "1.2.0",
      "_view_name": "LayoutView",
      "align_content": null,
      "align_items": null,
      "align_self": null,
      "border": null,
      "bottom": null,
      "display": null,
      "flex": null,
      "flex_flow": null,
      "grid_area": null,
      "grid_auto_columns": null,
      "grid_auto_flow": null,
      "grid_auto_rows": null,
      "grid_column": null,
      "grid_gap": null,
      "grid_row": null,
      "grid_template_areas": null,
      "grid_template_columns": null,
      "grid_template_rows": null,
      "height": null,
      "justify_content": null,
      "justify_items": null,
      "left": null,
      "margin": null,
      "max_height": null,
      "max_width": null,
      "min_height": null,
      "min_width": null,
      "object_fit": null,
      "object_position": null,
      "order": null,
      "overflow": null,
      "overflow_x": null,
      "overflow_y": null,
      "padding": null,
      "right": null,
      "top": null,
      "visibility": null,
      "width": null
     }
    },
    "a4da321b6d91403bbb4b10473948443b": {
     "model_module": "@jupyter-widgets/controls",
     "model_module_version": "1.5.0",
     "model_name": "HTMLModel",
     "state": {
      "_dom_classes": [],
      "_model_module": "@jupyter-widgets/controls",
      "_model_module_version": "1.5.0",
      "_model_name": "HTMLModel",
      "_view_count": null,
      "_view_module": "@jupyter-widgets/controls",
      "_view_module_version": "1.5.0",
      "_view_name": "HTMLView",
      "description": "",
      "description_tooltip": null,
      "layout": "IPY_MODEL_3683b7bb22fc46e28231fa97a9fbc93f",
      "placeholder": "​",
      "style": "IPY_MODEL_ab2c6b5329184907bf3fd7114c321e29",
      "value": "Downloading pytorch_model.bin: 100%"
     }
    },
    "a75decc64a7243059e7f39689f50aac4": {
     "model_module": "@jupyter-widgets/base",
     "model_module_version": "1.2.0",
     "model_name": "LayoutModel",
     "state": {
      "_model_module": "@jupyter-widgets/base",
      "_model_module_version": "1.2.0",
      "_model_name": "LayoutModel",
      "_view_count": null,
      "_view_module": "@jupyter-widgets/base",
      "_view_module_version": "1.2.0",
      "_view_name": "LayoutView",
      "align_content": null,
      "align_items": null,
      "align_self": null,
      "border": null,
      "bottom": null,
      "display": null,
      "flex": null,
      "flex_flow": null,
      "grid_area": null,
      "grid_auto_columns": null,
      "grid_auto_flow": null,
      "grid_auto_rows": null,
      "grid_column": null,
      "grid_gap": null,
      "grid_row": null,
      "grid_template_areas": null,
      "grid_template_columns": null,
      "grid_template_rows": null,
      "height": null,
      "justify_content": null,
      "justify_items": null,
      "left": null,
      "margin": null,
      "max_height": null,
      "max_width": null,
      "min_height": null,
      "min_width": null,
      "object_fit": null,
      "object_position": null,
      "order": null,
      "overflow": null,
      "overflow_x": null,
      "overflow_y": null,
      "padding": null,
      "right": null,
      "top": null,
      "visibility": null,
      "width": null
     }
    },
    "aab3f2b8e5d441ad9782576dc410b24c": {
     "model_module": "@jupyter-widgets/base",
     "model_module_version": "1.2.0",
     "model_name": "LayoutModel",
     "state": {
      "_model_module": "@jupyter-widgets/base",
      "_model_module_version": "1.2.0",
      "_model_name": "LayoutModel",
      "_view_count": null,
      "_view_module": "@jupyter-widgets/base",
      "_view_module_version": "1.2.0",
      "_view_name": "LayoutView",
      "align_content": null,
      "align_items": null,
      "align_self": null,
      "border": null,
      "bottom": null,
      "display": null,
      "flex": null,
      "flex_flow": null,
      "grid_area": null,
      "grid_auto_columns": null,
      "grid_auto_flow": null,
      "grid_auto_rows": null,
      "grid_column": null,
      "grid_gap": null,
      "grid_row": null,
      "grid_template_areas": null,
      "grid_template_columns": null,
      "grid_template_rows": null,
      "height": null,
      "justify_content": null,
      "justify_items": null,
      "left": null,
      "margin": null,
      "max_height": null,
      "max_width": null,
      "min_height": null,
      "min_width": null,
      "object_fit": null,
      "object_position": null,
      "order": null,
      "overflow": null,
      "overflow_x": null,
      "overflow_y": null,
      "padding": null,
      "right": null,
      "top": null,
      "visibility": null,
      "width": null
     }
    },
    "ab2c6b5329184907bf3fd7114c321e29": {
     "model_module": "@jupyter-widgets/controls",
     "model_module_version": "1.5.0",
     "model_name": "DescriptionStyleModel",
     "state": {
      "_model_module": "@jupyter-widgets/controls",
      "_model_module_version": "1.5.0",
      "_model_name": "DescriptionStyleModel",
      "_view_count": null,
      "_view_module": "@jupyter-widgets/base",
      "_view_module_version": "1.2.0",
      "_view_name": "StyleView",
      "description_width": ""
     }
    },
    "b9330c3888fa4ac69431ae4d976e6cab": {
     "model_module": "@jupyter-widgets/controls",
     "model_module_version": "1.5.0",
     "model_name": "DescriptionStyleModel",
     "state": {
      "_model_module": "@jupyter-widgets/controls",
      "_model_module_version": "1.5.0",
      "_model_name": "DescriptionStyleModel",
      "_view_count": null,
      "_view_module": "@jupyter-widgets/base",
      "_view_module_version": "1.2.0",
      "_view_name": "StyleView",
      "description_width": ""
     }
    },
    "bb2844f4522c48c79602bd02302d377a": {
     "model_module": "@jupyter-widgets/controls",
     "model_module_version": "1.5.0",
     "model_name": "DescriptionStyleModel",
     "state": {
      "_model_module": "@jupyter-widgets/controls",
      "_model_module_version": "1.5.0",
      "_model_name": "DescriptionStyleModel",
      "_view_count": null,
      "_view_module": "@jupyter-widgets/base",
      "_view_module_version": "1.2.0",
      "_view_name": "StyleView",
      "description_width": ""
     }
    },
    "bb35d785e8e544148e4c2618dc43c659": {
     "model_module": "@jupyter-widgets/controls",
     "model_module_version": "1.5.0",
     "model_name": "HTMLModel",
     "state": {
      "_dom_classes": [],
      "_model_module": "@jupyter-widgets/controls",
      "_model_module_version": "1.5.0",
      "_model_name": "HTMLModel",
      "_view_count": null,
      "_view_module": "@jupyter-widgets/controls",
      "_view_module_version": "1.5.0",
      "_view_name": "HTMLView",
      "description": "",
      "description_tooltip": null,
      "layout": "IPY_MODEL_3765f472292743268ef8eaade44320e2",
      "placeholder": "​",
      "style": "IPY_MODEL_bb2844f4522c48c79602bd02302d377a",
      "value": " 760/760 [00:00&lt;00:00, 25.4kB/s]"
     }
    },
    "d87588f48b8c457faa3d7b2e2b83c3cf": {
     "model_module": "@jupyter-widgets/controls",
     "model_module_version": "1.5.0",
     "model_name": "DescriptionStyleModel",
     "state": {
      "_model_module": "@jupyter-widgets/controls",
      "_model_module_version": "1.5.0",
      "_model_name": "DescriptionStyleModel",
      "_view_count": null,
      "_view_module": "@jupyter-widgets/base",
      "_view_module_version": "1.2.0",
      "_view_name": "StyleView",
      "description_width": ""
     }
    },
    "da4f8537dccd4e2c9596a3c35c159cec": {
     "model_module": "@jupyter-widgets/controls",
     "model_module_version": "1.5.0",
     "model_name": "ProgressStyleModel",
     "state": {
      "_model_module": "@jupyter-widgets/controls",
      "_model_module_version": "1.5.0",
      "_model_name": "ProgressStyleModel",
      "_view_count": null,
      "_view_module": "@jupyter-widgets/base",
      "_view_module_version": "1.2.0",
      "_view_name": "StyleView",
      "bar_color": null,
      "description_width": ""
     }
    },
    "e28ef6a4a1b64ee98ac58265576bbab5": {
     "model_module": "@jupyter-widgets/controls",
     "model_module_version": "1.5.0",
     "model_name": "HTMLModel",
     "state": {
      "_dom_classes": [],
      "_model_module": "@jupyter-widgets/controls",
      "_model_module_version": "1.5.0",
      "_model_name": "HTMLModel",
      "_view_count": null,
      "_view_module": "@jupyter-widgets/controls",
      "_view_module_version": "1.5.0",
      "_view_name": "HTMLView",
      "description": "",
      "description_tooltip": null,
      "layout": "IPY_MODEL_178616c6427348c9be59ea96ed126ca5",
      "placeholder": "​",
      "style": "IPY_MODEL_e8b8fb61d7bd4dda8d987e8cb2ff6650",
      "value": " 798k/798k [00:01&lt;00:00, 690kB/s]"
     }
    },
    "e8b8fb61d7bd4dda8d987e8cb2ff6650": {
     "model_module": "@jupyter-widgets/controls",
     "model_module_version": "1.5.0",
     "model_name": "DescriptionStyleModel",
     "state": {
      "_model_module": "@jupyter-widgets/controls",
      "_model_module_version": "1.5.0",
      "_model_name": "DescriptionStyleModel",
      "_view_count": null,
      "_view_module": "@jupyter-widgets/base",
      "_view_module_version": "1.2.0",
      "_view_name": "StyleView",
      "description_width": ""
     }
    },
    "f0731d1cb1204bf0a7c34a795989d3b2": {
     "model_module": "@jupyter-widgets/base",
     "model_module_version": "1.2.0",
     "model_name": "LayoutModel",
     "state": {
      "_model_module": "@jupyter-widgets/base",
      "_model_module_version": "1.2.0",
      "_model_name": "LayoutModel",
      "_view_count": null,
      "_view_module": "@jupyter-widgets/base",
      "_view_module_version": "1.2.0",
      "_view_name": "LayoutView",
      "align_content": null,
      "align_items": null,
      "align_self": null,
      "border": null,
      "bottom": null,
      "display": null,
      "flex": null,
      "flex_flow": null,
      "grid_area": null,
      "grid_auto_columns": null,
      "grid_auto_flow": null,
      "grid_auto_rows": null,
      "grid_column": null,
      "grid_gap": null,
      "grid_row": null,
      "grid_template_areas": null,
      "grid_template_columns": null,
      "grid_template_rows": null,
      "height": null,
      "justify_content": null,
      "justify_items": null,
      "left": null,
      "margin": null,
      "max_height": null,
      "max_width": null,
      "min_height": null,
      "min_width": null,
      "object_fit": null,
      "object_position": null,
      "order": null,
      "overflow": null,
      "overflow_x": null,
      "overflow_y": null,
      "padding": null,
      "right": null,
      "top": null,
      "visibility": null,
      "width": null
     }
    },
    "f0e441ca549047c5bc2c64420ca13b67": {
     "model_module": "@jupyter-widgets/base",
     "model_module_version": "1.2.0",
     "model_name": "LayoutModel",
     "state": {
      "_model_module": "@jupyter-widgets/base",
      "_model_module_version": "1.2.0",
      "_model_name": "LayoutModel",
      "_view_count": null,
      "_view_module": "@jupyter-widgets/base",
      "_view_module_version": "1.2.0",
      "_view_name": "LayoutView",
      "align_content": null,
      "align_items": null,
      "align_self": null,
      "border": null,
      "bottom": null,
      "display": null,
      "flex": null,
      "flex_flow": null,
      "grid_area": null,
      "grid_auto_columns": null,
      "grid_auto_flow": null,
      "grid_auto_rows": null,
      "grid_column": null,
      "grid_gap": null,
      "grid_row": null,
      "grid_template_areas": null,
      "grid_template_columns": null,
      "grid_template_rows": null,
      "height": null,
      "justify_content": null,
      "justify_items": null,
      "left": null,
      "margin": null,
      "max_height": null,
      "max_width": null,
      "min_height": null,
      "min_width": null,
      "object_fit": null,
      "object_position": null,
      "order": null,
      "overflow": null,
      "overflow_x": null,
      "overflow_y": null,
      "padding": null,
      "right": null,
      "top": null,
      "visibility": null,
      "width": null
     }
    },
    "f40e7bb51c8a46c199e4d245279592ee": {
     "model_module": "@jupyter-widgets/controls",
     "model_module_version": "1.5.0",
     "model_name": "FloatProgressModel",
     "state": {
      "_dom_classes": [],
      "_model_module": "@jupyter-widgets/controls",
      "_model_module_version": "1.5.0",
      "_model_name": "FloatProgressModel",
      "_view_count": null,
      "_view_module": "@jupyter-widgets/controls",
      "_view_module_version": "1.5.0",
      "_view_name": "ProgressView",
      "bar_style": "success",
      "description": "",
      "description_tooltip": null,
      "layout": "IPY_MODEL_f0731d1cb1204bf0a7c34a795989d3b2",
      "max": 798011,
      "min": 0,
      "orientation": "horizontal",
      "style": "IPY_MODEL_7aae7414b9754ba18b9597f5f596d789",
      "value": 798011
     }
    }
   }
  }
 },
 "nbformat": 4,
 "nbformat_minor": 4
}
